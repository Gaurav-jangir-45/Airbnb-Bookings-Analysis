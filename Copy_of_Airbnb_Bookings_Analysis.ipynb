{
  "nbformat": 4,
  "nbformat_minor": 0,
  "metadata": {
    "colab": {
      "private_outputs": true,
      "provenance": [],
      "collapsed_sections": [
        "H0kj-8xxnORC",
        "ylSl6qgtp1ck",
        "ZWILFDl5p1ck",
        "M7G43BXep1ck",
        "E6MkPsBcp1cl",
        "2cELzS2fp1cl",
        "UV0SzAkaZNRQ",
        "EXh0U9oCveiU",
        "22aHeOlLveiV",
        "gIfDvo9L0UH2"
      ],
      "cell_execution_strategy": "setup"
    },
    "kernelspec": {
      "name": "python3",
      "display_name": "Python 3"
    },
    "language_info": {
      "name": "python"
    }
  },
  "cells": [
    {
      "cell_type": "markdown",
      "source": [
        "# <font size='8px'><font color='#FFFF00'>**Project Name**    - <font color='#FFFFFF'>Airbnb Bookings Analysis\n",
        "\n",
        "\n",
        "\n",
        "\n",
        "\n",
        "\n",
        "\n",
        "\n",
        "\n",
        "\n",
        "\n",
        "\n",
        "\n",
        "\n"
      ],
      "metadata": {
        "id": "vncDsAP0Gaoa"
      }
    },
    {
      "cell_type": "markdown",
      "source": [
        "#####<font size='5px'> **Project Type**    - EDA\n",
        "##### **Contribution**    - Individual\n"
      ],
      "metadata": {
        "id": "beRrZCGUAJYm"
      }
    },
    {
      "cell_type": "markdown",
      "source": [
        "# **Project Summary -**"
      ],
      "metadata": {
        "id": "FJNUwmbgGyua"
      }
    },
    {
      "cell_type": "markdown",
      "source": [
        "Since its inception in 2008, Airbnb has transformed the way people travel, offering unique and personalized lodging experiences across the globe. Today, Airbnb is recognized as a pioneering platform that connects hosts and guests, expanding travel possibilities. With millions of listings worldwide, the importance of data analysis within Airbnb cannot be overstated.                  \n",
        "This project aims to explore and analyze a dataset comprising approximately 49,000 listings across 16 columns. The dataset is a rich mix of categorical and numeric values, providing valuable insights into guest behavior, host performance, and overall market dynamics.\n",
        "\n",
        "***Objectives***:\n",
        "\n",
        "**Data Exploration**: Conduct an initial exploration of the dataset to understand its structure, key statistics, and the distribution of values within each column.\n",
        "\n",
        "**Customer Behavior Analysis**: Analyze user behavior patterns by examining booking trends, popular listing types, pricing strategies, and seasonal variations in demand.\n",
        "\n",
        "**Host Performance Evaluation**: Assess host performance metrics such as occupancy rates, review scores, and response times to identify best practices and areas for improvement.\n",
        "\n",
        "**Market Insights**: Identify key factors that influence booking decisions, such as location, amenities, and pricing strategies, to guide marketing initiatives.\n",
        "\n",
        "**Innovative Services Development**: Explore opportunities for implementing innovative services based on customer preferences and market gaps identified through data analysis.\n",
        "\n",
        "***Methodology***:\n",
        "\n",
        "**Data Cleaning and Preprocessing**: Address any missing values, outliers, and inconsistencies to ensure data integrity.\n",
        "\n",
        "**Exploratory Data Analysis (EDA)**: Utilize visualizations and statistical methods to uncover trends, correlations, and patterns within the data.\n",
        "\n",
        "**Predictive Analytics**: Apply machine learning techniques to forecast booking trends and provide actionable insights for Airbnb's strategic decision-making.\n",
        "\n",
        "***Expected Outcomes***:\n",
        "\n",
        "The analysis will yield actionable insights that can enhance the user experience for guests, improve host performance, and inform Airbnb's marketing and service development strategies. The findings will contribute to a deeper understanding of the dynamics within the platform, ultimately supporting Airbnb's mission of providing unique and personalized travel experiences.\n",
        "\n",
        "---\n",
        "\n"
      ],
      "metadata": {
        "id": "F6v_1wHtG2nS"
      }
    },
    {
      "cell_type": "markdown",
      "source": [
        "# **GitHub Link -**"
      ],
      "metadata": {
        "id": "w6K7xa23Elo4"
      }
    },
    {
      "cell_type": "markdown",
      "source": [
        "Provide your GitHub Link here."
      ],
      "metadata": {
        "id": "h1o69JH3Eqqn"
      }
    },
    {
      "cell_type": "markdown",
      "source": [
        "# **Problem Statement**\n"
      ],
      "metadata": {
        "id": "yQaldy8SH6Dl"
      }
    },
    {
      "cell_type": "markdown",
      "source": [
        "As Airbnb continues to shape the travel landscape by connecting hosts and guests globally, the platform faces the challenge of optimizing its offerings based on a vast dataset comprising approximately 49,000 listings. Despite the wealth of data available, a detailed understanding of the factors that influence guest bookings and host performance is lacking. This project aims to address the following critical questions:\n",
        "\n",
        "1. What key attributes, such as price, location, amenities, and property type, significantly impact guests’ booking decisions?\n",
        "\n",
        "2. How do host performance metrics—including response rates, review scores, and cancellation histories—affect the likelihood of securing bookings?\n",
        "\n",
        "3. What seasonal trends and patterns can be identified in guest behavior that may inform pricing strategies and marketing initiatives?\n",
        "\n",
        "By conducting a thorough analysis of the dataset, this project seeks to uncover actionable insights that can guide Airbnb in enhancing the user experience for guests while simultaneously empowering hosts to improve their listings. Ultimately, the findings aim to contribute to the strategic decision-making process at Airbnb, fostering a deeper understanding of market dynamics and driving business growth."
      ],
      "metadata": {
        "id": "DpeJGUA3kjGy"
      }
    },
    {
      "cell_type": "markdown",
      "source": [
        "#### **Define Your Business Objective?**"
      ],
      "metadata": {
        "id": "PH-0ReGfmX4f"
      }
    },
    {
      "cell_type": "markdown",
      "source": [
        "The primary business objective of this project is to leverage data analysis to derive actionable insights that will enhance Airbnb's understanding of guest behavior and host performance. Specifically, the project aims to:\n",
        "\n",
        "1. **Optimize User Experience**: Identify the key factors influencing guest bookings to tailor marketing strategies and improve the overall user experience on the platform.\n",
        "\n",
        "2. **Enhance Host Support**: Provide data-driven recommendations for hosts by analyzing performance metrics, helping them improve their listings and increase booking rates.\n",
        "\n",
        "3. **Inform Strategic Decision-Making**: Uncover seasonal trends and patterns in booking behaviors to guide Airbnb’s pricing strategies, promotional campaigns, and service offerings, ultimately driving business growth.\n",
        "\n",
        "By achieving these objectives, the project will support Airbnb's mission of providing unique, personalized travel experiences while fostering stronger connections between guests and hosts."
      ],
      "metadata": {
        "id": "PhDvGCAqmjP1"
      }
    },
    {
      "cell_type": "markdown",
      "source": [
        "# **General Guidelines** : -  "
      ],
      "metadata": {
        "id": "mDgbUHAGgjLW"
      }
    },
    {
      "cell_type": "markdown",
      "source": [
        "1.   Well-structured, formatted, and commented code is required.\n",
        "2.   Exception Handling, Production Grade Code & Deployment Ready Code will be a plus. Those students will be awarded some additional credits.\n",
        "     \n",
        "     The additional credits will have advantages over other students during Star Student selection.\n",
        "       \n",
        "             [ Note: - Deployment Ready Code is defined as, the whole .ipynb notebook should be executable in one go\n",
        "                       without a single error logged. ]\n",
        "\n",
        "3.   Each and every logic should have proper comments.\n",
        "4. You may add as many number of charts you want. Make Sure for each and every chart the following format should be answered.\n",
        "        \n",
        "\n",
        "```\n",
        "# Chart visualization code\n",
        "```\n",
        "            \n",
        "\n",
        "*   Why did you pick the specific chart?\n",
        "*   What is/are the insight(s) found from the chart?\n",
        "* Will the gained insights help creating a positive business impact?\n",
        "Are there any insights that lead to negative growth? Justify with specific reason.\n",
        "\n",
        "5. You have to create at least 20 logical & meaningful charts having important insights.\n",
        "\n",
        "\n",
        "[ Hints : - Do the Vizualization in  a structured way while following \"UBM\" Rule.\n",
        "\n",
        "U - Univariate Analysis,\n",
        "\n",
        "B - Bivariate Analysis (Numerical - Categorical, Numerical - Numerical, Categorical - Categorical)\n",
        "\n",
        "M - Multivariate Analysis\n",
        " ]\n",
        "\n",
        "\n",
        "\n"
      ],
      "metadata": {
        "id": "ZrxVaUj-hHfC"
      }
    },
    {
      "cell_type": "markdown",
      "source": [
        "# ***Let's Begin !***"
      ],
      "metadata": {
        "id": "O_i_v8NEhb9l"
      }
    },
    {
      "cell_type": "markdown",
      "source": [
        "## ***1. Know Your Data***"
      ],
      "metadata": {
        "id": "HhfV-JJviCcP"
      }
    },
    {
      "cell_type": "markdown",
      "source": [
        "### Import Libraries"
      ],
      "metadata": {
        "id": "Y3lxredqlCYt"
      }
    },
    {
      "cell_type": "code",
      "source": [
        "# Import Libraries\n",
        "import numpy as np\n",
        "import pandas as pd\n",
        "\n",
        "# Import Data Visualization libraries\n",
        "import matplotlib.pyplot as plt\n",
        "import seaborn as sns\n",
        "\n",
        "# Importing Date Time library for Date column\n",
        "from datetime import datetime as dt\n",
        "\n",
        "# Import Warnings\n",
        "#it is important to address these warnings in order to avoid potential problems.\n",
        "import warnings\n",
        "warnings.filterwarnings('ignore')"
      ],
      "metadata": {
        "id": "M8Vqi-pPk-HR"
      },
      "execution_count": null,
      "outputs": []
    },
    {
      "cell_type": "markdown",
      "source": [
        "### Dataset Loading"
      ],
      "metadata": {
        "id": "3RnN4peoiCZX"
      }
    },
    {
      "cell_type": "code",
      "source": [
        "# Load dataset (importing my CSV file for analysis)\n",
        "\n",
        "# Creating a file path to easily access my CSV file for analysis\n",
        "filepath = 'Airbnb NYC 2019.csv'\n",
        "\n",
        "# Creating DataFrame of my csv file\n",
        "Airbnb_df = pd.read_csv(filepath)"
      ],
      "metadata": {
        "id": "4CkvbW_SlZ_R"
      },
      "execution_count": null,
      "outputs": []
    },
    {
      "cell_type": "markdown",
      "source": [
        "### Dataset First View"
      ],
      "metadata": {
        "id": "x71ZqKXriCWQ"
      }
    },
    {
      "cell_type": "code",
      "source": [
        "# Dataset First Look\n",
        "Airbnb_df"
      ],
      "metadata": {
        "id": "LWNFOSvLl09H"
      },
      "execution_count": null,
      "outputs": []
    },
    {
      "cell_type": "code",
      "source": [
        "# Take a look on the first 10 rows of the dataframe\n",
        "print('The first 10 rows of the dataframe are: \\n')\n",
        "Airbnb_df.head(10)"
      ],
      "metadata": {
        "id": "jhs1eNk56bQD"
      },
      "execution_count": null,
      "outputs": []
    },
    {
      "cell_type": "markdown",
      "source": [
        "### Dataset Rows & Columns count"
      ],
      "metadata": {
        "id": "7hBIi_osiCS2"
      }
    },
    {
      "cell_type": "code",
      "source": [
        "# Dataset Rows & Columns count\n",
        "print(f'The number of rows in the dataframe are: {Airbnb_df.shape[0]}')\n",
        "print(f'The number of columns in the dataframe are: {Airbnb_df.shape[1]}')"
      ],
      "metadata": {
        "id": "Kllu7SJgmLij"
      },
      "execution_count": null,
      "outputs": []
    },
    {
      "cell_type": "markdown",
      "source": [
        "### Dataset Information"
      ],
      "metadata": {
        "id": "JlHwYmJAmNHm"
      }
    },
    {
      "cell_type": "code",
      "source": [
        "# Dataset Info\n",
        "# To get information about the DataFrame\n",
        "Airbnb_df.info()"
      ],
      "metadata": {
        "id": "e9hRXRi6meOf"
      },
      "execution_count": null,
      "outputs": []
    },
    {
      "cell_type": "markdown",
      "source": [
        "#### Duplicate Values"
      ],
      "metadata": {
        "id": "35m5QtbWiB9F"
      }
    },
    {
      "cell_type": "code",
      "source": [
        "# Dataset Duplicate Value Count\n",
        "# To get information about duplicate values in the DataFrame using the .duplicated() function, then get the sum of duplicate values\n",
        "print(f'The number of duplicate values in the dataframe are: {Airbnb_df.duplicated().sum()}')"
      ],
      "metadata": {
        "id": "1sLdpKYkmox0"
      },
      "execution_count": null,
      "outputs": []
    },
    {
      "cell_type": "markdown",
      "source": [
        "#### Missing Values/Null Values"
      ],
      "metadata": {
        "id": "PoPl-ycgm1ru"
      }
    },
    {
      "cell_type": "code",
      "source": [
        "# Missing Values/Null Values Count\n",
        "# To get information about missing values in the DataFrame\n",
        "Airbnb_df.isnull().sum()"
      ],
      "metadata": {
        "id": "GgHWkxvamxVg"
      },
      "execution_count": null,
      "outputs": []
    },
    {
      "cell_type": "code",
      "source": [
        "# Visualizing the missing values\n",
        "\n",
        "# To visualize the distribution of null values using a heatmap\n",
        "sns.heatmap(Airbnb_df.isnull(), cbar=False)"
      ],
      "metadata": {
        "id": "3q5wnI3om9sJ"
      },
      "execution_count": null,
      "outputs": []
    },
    {
      "cell_type": "code",
      "source": [
        "# Calculate and display the percentage of missing values for each column\n",
        "missing_percentage = (Airbnb_df.isnull().sum() / len(Airbnb_df)) * 100\n",
        "missing_percentage = missing_percentage[missing_percentage > 0].sort_values(ascending=False)\n",
        "print(missing_percentage)"
      ],
      "metadata": {
        "id": "fIrVF4C9_naL"
      },
      "execution_count": null,
      "outputs": []
    },
    {
      "cell_type": "code",
      "source": [
        "# Plot the percentage of missing values per column\n",
        "plt.figure(figsize=(10, 6))\n",
        "sns.barplot(x=missing_percentage.index, y=missing_percentage.values, palette=\"viridis\")\n",
        "plt.xticks(rotation=90)\n",
        "plt.title(\"Percentage of Missing Values by Column\")\n",
        "plt.xlabel(\"Columns\")\n",
        "plt.ylabel(\"Percentage of Missing Values\")\n",
        "plt.show()"
      ],
      "metadata": {
        "id": "trWY5DQF_teS"
      },
      "execution_count": null,
      "outputs": []
    },
    {
      "cell_type": "markdown",
      "source": [
        "### What did you know about your dataset?\n",
        "\n",
        "\n",
        "\n"
      ],
      "metadata": {
        "id": "H0kj-8xxnORC"
      }
    },
    {
      "cell_type": "markdown",
      "source": [
        "The dataset comprises 48,895 listings from Airbnb, containing 16 columns that provide detailed information about each listing. The key features include:\n",
        "\n",
        "1. **Unique Identifiers**: The **id** and **host_id** columns serve as unique identifiers for each listing and host, respectively.\n",
        "\n",
        "2. **Listing Attributes**: The **name**, **room_type**, **price**, and **minimum_nights** columns describe the characteristics of the listings.\n",
        "\n",
        "3. **Host Information**: The **host_name** column identifies the property owner or authorized person.\n",
        "\n",
        "4. **Location Data**: The **neighbourhood_group** and **neighbourhood** columns provide geographic context, while **latitude** and **longitude** specify exact locations.\n",
        "\n",
        "5. **Reviews and Ratings**: The **number_of_reviews**, **last_review**, and **reviews_per_month** columns offer insights into the listing's popularity and customer feedback.\n",
        "\n",
        "6. **Availability**: The **availability_365** column indicates how many days a listing is available for booking in a year.\n",
        "\n",
        "#<font size='5px'># **Key Findings from the Dataset**--\n",
        "\n",
        "\n",
        "1. **Missing Values**:\n",
        "   - The dataset contains missing values in several columns:\n",
        "     - The `name` column has **16** missing entries.\n",
        "     - The `host_name` column has **21** missing entries.\n",
        "     - The `last_review` and `reviews_per_month` columns have **10,052** missing entries each.\n",
        "   - These missing values can impact the analysis and need to be addressed, either through imputation or removal.\n",
        "\n",
        "2. **No Duplicate Values**:\n",
        "   - There are **0 duplicate entries** in the dataset, ensuring that each listing is unique and making it reliable for analysis.\n",
        "\n",
        "3. **Data Types**:\n",
        "   - The dataset includes various data types: integers, floats, and objects (strings), which will require different handling during analysis.\n",
        "\n",
        "4. **Noted info**:\n",
        "   - Convert last_review from object to datetime to enable date manipulations."
      ],
      "metadata": {
        "id": "gfoNAAC-nUe_"
      }
    },
    {
      "cell_type": "markdown",
      "source": [
        "## ***2. Understanding Your Variables***"
      ],
      "metadata": {
        "id": "nA9Y7ga8ng1Z"
      }
    },
    {
      "cell_type": "code",
      "source": [
        "# Dataset Columns\n",
        "# To get the list of columns in the DataFrame\n",
        "print('The columns in the dataframe are: \\n')\n",
        "Airbnb_df.columns"
      ],
      "metadata": {
        "id": "j7xfkqrt5Ag5"
      },
      "execution_count": null,
      "outputs": []
    },
    {
      "cell_type": "code",
      "source": [
        "# Dataset Describe\n",
        "# To get the summary statistics of the DataFrame\n",
        "Airbnb_df.describe(include='all')"
      ],
      "metadata": {
        "id": "DnOaZdaE5Q5t"
      },
      "execution_count": null,
      "outputs": []
    },
    {
      "cell_type": "markdown",
      "source": [
        "### Variables Description"
      ],
      "metadata": {
        "id": "PBTbrJXOngz2"
      }
    },
    {
      "cell_type": "markdown",
      "source": [
        "* **id**:  A unique identifier assigned to each listing.\n",
        "          (example: 123 or 124)\n",
        "\n",
        "* **name**:  The name of the listing as provided by the host.\n",
        "          (example: \"Charming Studio in Downtown\" etc)\n",
        "\n",
        "* **host_id**:  A unique identifier assigned to each host, used to distinguish hosts from one another.\n",
        "          (example: 2787 or 2845)\n",
        "\n",
        "* **host_name**:  The name of the host (property owner or authorized person).\n",
        "          (example: \"John\" or \"Marry\" etc.)\n",
        "\n",
        "* **neighbourhood_group**: \tThe general geographic area where the listing is located.\n",
        "          (example: \t\"Brooklyn\" or \"Manhattan\" etc.)\n",
        "  \n",
        "* **neighbourhood**: The specific neighborhood of the listing.\n",
        "          (example: \"Harlem\" or \"Midtowm\" or \"East Harlem\" etc.)\n",
        "\n",
        "* **latitude**: \tThe latitude coordinate of the listing's location.\n",
        "          (example: 40.64749 or 40.75362)\n",
        "\n",
        "* **longitude**: The longitude coordinate of the listing's location.\n",
        "          (example: -73.97237\tor -73.98377 )\n",
        "\n",
        "* **room_type**: The type of room being offered in the listing.\n",
        "          (example: entire home, private room, shared room).\n",
        "\n",
        "* **price**: The price per night for renting the listing.\n",
        "          (example: 149, 225, 150 )\n",
        "\n",
        "* **minimum_nights**: The minimum number of nights a guest must book the listing.\n",
        "          (example: 1,2,3,4,5,6 )\n",
        "\n",
        "* **number_of_reviews**: The total number of reviews received by the listing.\n",
        "        (example: 9, 45, 0, 270)\n",
        "\n",
        "* **last_review**: The date of the last review submitted for the listing.\n",
        "          (example: 2018-08-21)\n",
        "\n",
        "* **reviews_per_month** : Average number of reviews that a listing receives per month\n",
        "          (example: Nan, 0.21, 0.23)\n",
        "\n",
        "* **calculated_host_listings_count** : Total number of listings that a host has on the Airbnb platform\n",
        "          (example: 1,2,5,78)\n",
        "\n",
        "* **availability_365** : The number of days in a year that a listing is available for booking on the Airbnb platform based on the listing's calendar, and reflects the number of days in the future that the listing is marked as available for booking.\n",
        "          (example: 365, 355, 365)"
      ],
      "metadata": {
        "id": "aJV4KIxSnxay"
      }
    },
    {
      "cell_type": "markdown",
      "source": [
        "### Check Unique Values for each variable."
      ],
      "metadata": {
        "id": "u3PMJOP6ngxN"
      }
    },
    {
      "cell_type": "code",
      "source": [
        "# Check Unique Values for each variable.\n",
        "# To get the unique values in each column of the DataFrame\n",
        "Airbnb_df.nunique()"
      ],
      "metadata": {
        "id": "zms12Yq5n-jE"
      },
      "execution_count": null,
      "outputs": []
    },
    {
      "cell_type": "markdown",
      "source": [
        "## 3. ***Data Wrangling***"
      ],
      "metadata": {
        "id": "dauF4eBmngu3"
      }
    },
    {
      "cell_type": "markdown",
      "source": [
        "### Data Wrangling Code"
      ],
      "metadata": {
        "id": "bKJF3rekwFvQ"
      }
    },
    {
      "cell_type": "code",
      "source": [
        "# Write your code to make your dataset analysis ready.\n",
        "# To make a copy of the original DataFrame\n",
        "df = Airbnb_df.copy()\n",
        "# Making a copy of the dataset is important to ensure that our original dataset remains intact and safe from any modifications."
      ],
      "metadata": {
        "id": "wk-9a2fpoLcV"
      },
      "execution_count": null,
      "outputs": []
    },
    {
      "cell_type": "code",
      "source": [
        "# Dealing with Null values in name, host_name, reviews_per_month\n",
        "# To fill missing values in the 'name' column with 'Unknown'\n",
        "df['name'].fillna('Unknown', inplace=True)\n",
        "\n",
        "# To fill missing values in the 'host_name' column with 'Unknown'\n",
        "df['host_name'].fillna('Unknown', inplace=True)\n",
        "\n",
        "# To fill missing values in the 'reviews_per_month' column with 0\n",
        "df['reviews_per_month'].fillna(0, inplace=True)"
      ],
      "metadata": {
        "id": "cd6gtusLN8Vw"
      },
      "execution_count": null,
      "outputs": []
    },
    {
      "cell_type": "code",
      "source": [
        "# To get information about missing values in the DataFrame\n",
        "df.isnull().sum()"
      ],
      "metadata": {
        "id": "pwwdapVCrC-E"
      },
      "execution_count": null,
      "outputs": []
    },
    {
      "cell_type": "code",
      "source": [
        "# Check if number_of_reviews == 0\n",
        "len(df[df['number_of_reviews'] == 0])"
      ],
      "metadata": {
        "id": "Q-n0d2xurabr"
      },
      "execution_count": null,
      "outputs": []
    },
    {
      "cell_type": "code",
      "source": [
        "# Converting the last_review column data type from string to datetime format\n",
        "df['last_review'] = pd.to_datetime(Airbnb_df['last_review'], errors='coerce')\n",
        "\n",
        "# Fill with median date, which might represent a common review period\n",
        "median_date = df['last_review'].median()\n",
        "df['last_review'].fillna(median_date, inplace=True)\n"
      ],
      "metadata": {
        "id": "pmLdXZnkWxBF"
      },
      "execution_count": null,
      "outputs": []
    },
    {
      "cell_type": "code",
      "source": [
        "# Check if price == 0\n",
        "len(df[df['price'] == 0])"
      ],
      "metadata": {
        "id": "cLqGz1lBbMxq"
      },
      "execution_count": null,
      "outputs": []
    },
    {
      "cell_type": "code",
      "source": [
        "# Drop rows where 'price' is 0\n",
        "df.drop(df[df['price'] == 0].index, inplace=True)"
      ],
      "metadata": {
        "id": "GZa_sClbYXpW"
      },
      "execution_count": null,
      "outputs": []
    },
    {
      "cell_type": "code",
      "source": [
        "# Creating a box plot to visualize outliers for price.\n",
        "plt.figure(figsize=(10, 6))\n",
        "sns.boxplot(x=df['price'])\n",
        "plt.title('Box Plot of Price')\n",
        "plt.show()"
      ],
      "metadata": {
        "id": "0KnZwazybXLC"
      },
      "execution_count": null,
      "outputs": []
    },
    {
      "cell_type": "code",
      "source": [
        "# Dealing with outliears\n",
        "# To remove outliers in the dataset\n",
        "Q1 = df['price'].quantile(0.25)\n",
        "Q3 = df['price'].quantile(0.75)\n",
        "IQR = Q3 - Q1\n",
        "lower_bound = Q1 - 1.5 * IQR # creating a lower boundry for outliers\n",
        "upper_bound = Q3 + 1.5 * IQR # creating a upper boundry for outliers\n",
        "\n",
        "# removing outliers\n",
        "df = df[(df['price'] >= lower_bound) & (df['price'] <= upper_bound)]"
      ],
      "metadata": {
        "id": "d3QUoFGhd3fw"
      },
      "execution_count": null,
      "outputs": []
    },
    {
      "cell_type": "code",
      "source": [
        "# Creating a box plot to visualize outliers for minimum_nights.\n",
        "plt.figure(figsize=(10, 6))\n",
        "sns.boxplot(x=df['minimum_nights'])\n",
        "plt.title('Box Plot of minimum_nights')\n",
        "plt.show()"
      ],
      "metadata": {
        "id": "gWjUNxCnJi2w"
      },
      "execution_count": null,
      "outputs": []
    },
    {
      "cell_type": "code",
      "source": [
        "# Dealing with outliers in minimum_nights column.\n",
        "Q1_nights = df['minimum_nights'].quantile(0.25)\n",
        "Q3_nights = df['minimum_nights'].quantile(0.75)\n",
        "IQR_nights = Q3_nights - Q1_nights\n",
        "upper_limit_nights = Q3_nights + 1.5 * IQR_nights\n",
        "\n",
        "df = df[df['minimum_nights'] <= upper_limit_nights]"
      ],
      "metadata": {
        "id": "KHbD0a-YJ1S1"
      },
      "execution_count": null,
      "outputs": []
    },
    {
      "cell_type": "code",
      "source": [
        "# Checking for seasonal bookings\n",
        "\n",
        "# Step 1: Extract Month from the last_review\n",
        "df['month'] = df['last_review'].dt.month\n",
        "\n",
        "# Step 2: Create a function to determine the season\n",
        "def get_season(month):\n",
        "    if month in [12, 1, 2]:\n",
        "        return 'Winter'\n",
        "    elif month in [3, 4, 5]:\n",
        "        return 'Spring'\n",
        "    elif month in [6, 7, 8]:\n",
        "        return 'Summer'\n",
        "    elif month in [9, 10, 11]:\n",
        "        return 'Fall'\n",
        "\n",
        "# Step 3: Apply the function to create a season column\n",
        "df['season'] = df['month'].apply(get_season)\n",
        "\n",
        "# Step 4: Group by month and season to aggregate the data\n",
        "monthly_bookings = df.groupby('month').agg({\n",
        "    'number_of_reviews': 'sum',  # Assuming this indicates bookings\n",
        "    'price': 'mean'  # Average price for the month\n",
        "}).reset_index()\n",
        "\n",
        "seasonal_bookings = df.groupby('season').agg({\n",
        "    'number_of_reviews': 'sum',  # Assuming this indicates bookings\n",
        "    'price': 'mean'  # Average price for the season\n",
        "}).reset_index()\n",
        "\n",
        "# Step 5: Display the results\n",
        "print(\"Monthly Bookings:\")\n",
        "print(monthly_bookings)\n",
        "\n",
        "print(\"\\nSeasonal Bookings:\")\n",
        "print(seasonal_bookings)"
      ],
      "metadata": {
        "id": "g-4uO2TFTHYO"
      },
      "execution_count": null,
      "outputs": []
    },
    {
      "cell_type": "code",
      "source": [
        "# Droping host_name and last_review columns because they are not usefull for the analysis\n",
        "df.drop(['host_name', 'last_review'], axis=1, inplace=True)"
      ],
      "metadata": {
        "id": "UtJhG81YeO74"
      },
      "execution_count": null,
      "outputs": []
    },
    {
      "cell_type": "code",
      "source": [
        "# Group by 'neighbourhood_group' and aggregate with mean of 'price' and sum of 'number_of_reviews'\n",
        "grouped_data = df.groupby('neighbourhood_group').agg({\n",
        "    'price': 'mean',\n",
        "    'number_of_reviews': 'sum'\n",
        "}).reset_index()\n",
        "\n",
        "# Rename columns for clarity\n",
        "grouped_data.rename(columns={'price': 'mean_price', 'number_of_reviews': 'total_reviews'}, inplace=True)\n",
        "\n",
        "# Sorting the grouped_data in decending order\n",
        "grouped_data.sort_values(by='mean_price', ascending=False)\n",
        "\n"
      ],
      "metadata": {
        "id": "YyT_3zcDh5nf"
      },
      "execution_count": null,
      "outputs": []
    },
    {
      "cell_type": "code",
      "source": [
        "# Group by 'neighbourhood' and aggregate with mean of 'price' and sum of 'number_of_reviews'\n",
        "grouped_neighbourhood_data = Airbnb_df.groupby('neighbourhood').agg({\n",
        "    'price': 'mean',\n",
        "    'number_of_reviews': 'sum'\n",
        "}).reset_index()\n",
        "\n",
        "# Rename columns for clarity\n",
        "grouped_neighbourhood_data.rename(columns={'price': 'mean_price', 'number_of_reviews': 'total_reviews'}, inplace=True)\n",
        "\n",
        "# Sorting the grouped_neighbourhood_data in decending order\n",
        "grouped_neighbourhood_data.sort_values(by='mean_price', ascending=False)\n"
      ],
      "metadata": {
        "id": "lnHDH_5XoGzL"
      },
      "execution_count": null,
      "outputs": []
    },
    {
      "cell_type": "code",
      "source": [
        "# Creating a new column for number_of_bookings for each listing\n",
        "df['number_of_bookings'] = (365 - df['availability_365']) / df['minimum_nights']\n",
        "\n",
        "# Creating a new column for revenue based on price, minimum_nights, and number_of_bookings\n",
        "df['revenue'] = df['price'] * df['minimum_nights'] * df['number_of_bookings']\n"
      ],
      "metadata": {
        "id": "9RPfVX61Ch0F"
      },
      "execution_count": null,
      "outputs": []
    },
    {
      "cell_type": "code",
      "source": [
        "# Grouping by 'neighbourhood_group' and 'room_type' with aggregations on price, number_of_reviews, and revenue\n",
        "grouped_neighbourhood_room = df.groupby(['neighbourhood_group', 'room_type']).agg({\n",
        "    'price': 'mean',\n",
        "    'number_of_reviews': 'sum',\n",
        "    'revenue': 'mean'\n",
        "}).reset_index()\n",
        "\n",
        "# Renaming columns for clarity\n",
        "grouped_neighbourhood_room.rename(columns={\n",
        "    'price': 'mean_price',\n",
        "    'number_of_reviews': 'total_reviews',\n",
        "    'revenue': 'avg_revenue'\n",
        "}, inplace=True)\n",
        "\n",
        "# Sorting by average revenue or mean price if desired\n",
        "grouped_neighbourhood_room.sort_values(by='avg_revenue', ascending=False, inplace=True)\n",
        "grouped_neighbourhood_room\n"
      ],
      "metadata": {
        "id": "wkvEKhiFFJqd"
      },
      "execution_count": null,
      "outputs": []
    },
    {
      "cell_type": "code",
      "source": [
        "# Group by 'neighbourhood_group' and get unique 'neighbourhood' names\n",
        "unique_neighbourhoods = df.groupby('neighbourhood_group')['neighbourhood'].unique().reset_index()\n",
        "\n",
        "# convert the list of unique neighbourhoods to a string for better readability\n",
        "unique_neighbourhoods['neighbourhood'] = unique_neighbourhoods['neighbourhood'].apply(lambda x: ', '.join(x))\n",
        "unique_neighbourhoods\n"
      ],
      "metadata": {
        "id": "yraIl0CZHi_r"
      },
      "execution_count": null,
      "outputs": []
    },
    {
      "cell_type": "code",
      "source": [
        "# Calculate price per night\n",
        "df['price_per_night'] = df['price'] / df['minimum_nights']\n",
        "\n",
        "# Calculate total reviews per year\n",
        "df['reviews_per_year'] = df['reviews_per_month'] * 12\n"
      ],
      "metadata": {
        "id": "y5HWk9XtH_gI"
      },
      "execution_count": null,
      "outputs": []
    },
    {
      "cell_type": "code",
      "source": [
        "# Calculate the mean for each of the three columns to define thresholds\n",
        "avg_bookings = df['number_of_bookings'].mean()\n",
        "avg_price = df['price'].mean()\n",
        "avg_reviews = df['number_of_reviews'].mean()\n",
        "\n",
        "# Define a function to categorize engagement based on conditions\n",
        "def engagement_category(row):\n",
        "    # Criteria for good engagement:\n",
        "    if row['number_of_bookings'] >= avg_bookings and row['price'] <= avg_price and row['number_of_reviews'] >= avg_reviews:\n",
        "        return 'Good Engagement'\n",
        "    else:\n",
        "        return 'Bad Engagement'\n",
        "\n",
        "# Apply the function to each row to create a new 'engagement_category' column\n",
        "df['engagement_category'] = df.apply(engagement_category, axis=1)\n",
        "\n",
        "# Display the updated DataFrame with the new column\n",
        "df[['number_of_bookings', 'price', 'number_of_reviews', 'engagement_category']]\n"
      ],
      "metadata": {
        "id": "lhO5REbnIcRE"
      },
      "execution_count": null,
      "outputs": []
    },
    {
      "cell_type": "code",
      "source": [
        "# Calculating average location for each neighbourhood group\n",
        "avg_location = df.groupby(['neighbourhood_group', 'season']).agg({\n",
        "    'latitude': 'mean',\n",
        "    'longitude': 'mean',\n",
        "    'price': 'mean',\n",
        "    'number_of_reviews': 'sum'\n",
        "}).reset_index()\n",
        "\n",
        "# Renaming columns for clarity\n",
        "avg_location.rename(columns={'price': 'avg_price', 'number_of_reviews': 'total_reviews'}, inplace=True)\n"
      ],
      "metadata": {
        "id": "HFp38FFBFGLx"
      },
      "execution_count": null,
      "outputs": []
    },
    {
      "cell_type": "markdown",
      "source": [
        "### What all manipulations have you done and insights you found?"
      ],
      "metadata": {
        "id": "MSa1f5Uengrz"
      }
    },
    {
      "cell_type": "markdown",
      "source": [
        "<font size='5px'> **Data Manipulation and Insights** --\n",
        "\n",
        "In this project, I undertook extensive data wrangling on the Airbnb dataset to prepare it for insightful analysis. The following steps highlight the manipulations performed and the key insights derived:\n",
        "\n",
        "1. **Handling Missing Values** :\n",
        "\n",
        "* I addressed null values in critical columns such as **name**, **host_name**, and **reviews_per_month**. Missing values in the **name** and **host_name** columns were filled with 'Unknown' to ensure completeness, while **reviews_per_month** was set to 0, reflecting listings with no reviews.\n",
        "\n",
        "* **The last_review** column was converted to a datetime format, and missing dates were filled with the median date, representing a common review period.\n",
        "\n",
        "2. **Outlier Detection and Removal** :\n",
        "\n",
        "* I utilized box plots to visualize and detect outliers in the **price** and **minimum_nights** columns. Outliers were identified using the Interquartile Range (IQR) method and subsequently removed to enhance the quality of the dataset.\n",
        "\n",
        "3. **Feature Engineering** :\n",
        "\n",
        "* New features were created to enrich the dataset for analysis:\n",
        "\n",
        " *  A **number_of_bookings** column was derived from **availability_365** and **minimum_nights**.\n",
        "\n",
        " * A revenue column was calculated based on the **price**, **minimum_nights**, and **number_of_bookings**.\n",
        "\n",
        " 4. **Engagement Category** :\n",
        "\n",
        " * I defined an **engagement_category** column based on **number_of_bookings**, **price**, and **reviews** to classify listings into 'Good Engagement' or 'Bad Engagement.' This segmentation aids in understanding which listings are performing better in terms of guest engagement.\n",
        "\n",
        " 5. **Seasonal Analysis** :\n",
        "\n",
        " * I extracted the month from the **last_review **column and created a **season column** based on the month. This classification allowed for a detailed analysis of booking trends across different seasons.\n",
        "\n",
        "  * By aggregating the **number of reviews** (as a proxy for bookings) and average\n",
        "  prices by month and season, I gained insights into seasonal booking patterns.\n",
        "\n",
        "  *  *Key Findings:*\n",
        "     \n",
        "    * Monthly Trends: The total bookings varied by month, providing insights into peak booking periods.\n",
        "\n",
        "    * Seasonal Trends: The analysis highlighted which seasons attract more bookings and the average pricing during these periods, helping hosts adjust their pricing strategies accordingly.\n",
        "\n",
        " 6. **Group Aggregations** :\n",
        "\n",
        " * The data was grouped by **neighbourhood_group** and **room_type** to identify **mean prices** and **total reviews**. This helped uncover which **neighborhoods** and **room types **offer the best value and have higher engagement levels.\n",
        "\n",
        "\n",
        "**Conclusion**\n",
        "\n",
        "This data wrangling process transformed the raw Airbnb dataset into a structured format suitable for in-depth analysis. By addressing missing values, removing outliers, creating new features, and conducting seasonal analyses, I developed valuable insights into guest behavior, pricing strategies, and seasonal trends. These findings can be instrumental for Airbnb hosts and stakeholders in making informed decisions to enhance user experience and maximize bookings.\n",
        "\n"
      ],
      "metadata": {
        "id": "LbyXE7I1olp8"
      }
    },
    {
      "cell_type": "markdown",
      "source": [
        "## ***4. Data Vizualization, Storytelling & Experimenting with charts : Understand the relationships between variables***"
      ],
      "metadata": {
        "id": "GF8Ens_Soomf"
      }
    },
    {
      "cell_type": "markdown",
      "source": [
        "### **Univariate Analysis**"
      ],
      "metadata": {
        "id": "14D0KqAHImhq"
      }
    },
    {
      "cell_type": "markdown",
      "source": [
        "#### Chart - 1 -- Histogram\n"
      ],
      "metadata": {
        "id": "0wOQAZs5pc--"
      }
    },
    {
      "cell_type": "code",
      "source": [
        "# Chart - 1 visualization code\n",
        "\n",
        "# Histogram for prize distribution\n",
        "\n",
        "plt.figure(figsize=(10, 6)) # For fixing fig. size\n",
        "\n",
        "sns.histplot(df['price'], bins=30, kde=True) # Ploating a histogram for prize with the help of seaborn (activate kde for better understanding of prize distribution)\n",
        "\n",
        "plt.title('Distribution of Airbnb Prices') # Giving a title to the plot\n",
        "\n",
        "plt.xlabel('Price') # Set x_label for price\n",
        "\n",
        "plt.ylabel('Frequency') # Set Y_label\n",
        "plt.show()\n"
      ],
      "metadata": {
        "id": "7v_ESjsspbW7"
      },
      "execution_count": null,
      "outputs": []
    },
    {
      "cell_type": "markdown",
      "source": [
        "##### 1. Why did you pick the specific chart?"
      ],
      "metadata": {
        "id": "K5QZ13OEpz2H"
      }
    },
    {
      "cell_type": "markdown",
      "source": [
        "I chose a histogram to visualize the distribution of Airbnb prices because it effectively captures the frequency of listings at different price points. Given the dataset's focus on various aspects of Airbnb listings, a histogram provides a clear representation of how prices are spread across the dataset. This visualization allows us to quickly identify the most common price ranges and observe any potential outliers or trends that could inform pricing strategies for hosts."
      ],
      "metadata": {
        "id": "XESiWehPqBRc"
      }
    },
    {
      "cell_type": "markdown",
      "source": [
        "##### 2. What is/are the insight(s) found from the chart?"
      ],
      "metadata": {
        "id": "lQ7QKXXCp7Bj"
      }
    },
    {
      "cell_type": "markdown",
      "source": [
        "From the histogram of Airbnb prices, several insights can be derived:\n",
        "\n",
        " - **Price Range**: Most Airbnb listings tend to be priced between $50 and $150 per night. This shows that many hosts are pricing their properties similarly to stay competitive.\n",
        "\n",
        "\n",
        " - **Distribution Shape**: The histogram may be right-skewed, meaning there are many affordable listings and a few expensive ones. This suggests a market for luxury properties that appeal to a different type of guest.\n",
        "\n",
        "\n",
        " - **Outliers**: Listings with very high prices (shown on the far right of the histogram) could indicate luxury accommodations. If there are many high-priced listings but not enough guests, this might mean a crowded luxury market."
      ],
      "metadata": {
        "id": "C_j1G7yiqdRP"
      }
    },
    {
      "cell_type": "markdown",
      "source": [
        "##### 3. Will the gained insights help creating a positive business impact?\n",
        "Are there any insights that lead to negative growth? Justify with specific reason."
      ],
      "metadata": {
        "id": "448CDAPjqfQr"
      }
    },
    {
      "cell_type": "markdown",
      "source": [
        "***Positive Impacts*** :\n",
        "\n",
        " - **Smart Pricing** : Knowing the common price ranges helps Airbnb and hosts set competitive prices, which can lead to more bookings. For example, if most guests book properties priced under $150, new hosts might want to price their listings similarly to attract more guests.\n",
        "\n",
        "\n",
        " - **Targeted Marketing** : Understanding price distribution helps in targeting marketing efforts. If many guests are looking for budget-friendly options, marketing can focus on those affordable listings to draw in more customers.\n",
        "\n",
        "\n",
        " ***Potential Negative Impacts*** :\n",
        "\n",
        " - **High-Priced Listings** : If many listings are priced much higher than average but don’t get booked, it indicates a problem. These high-priced listings may sit empty, leading to loss of income for hosts and creating an imbalance in the market.\n",
        "\n",
        "\n",
        " - **Saturation in Luxury Segment** : If the histogram shows too many high-priced listings without enough demand, it could lead to intense competition. Hosts might have to lower their prices to compete, which could reduce their revenue and negatively affect Airbnb's overall earnings."
      ],
      "metadata": {
        "id": "3cspy4FjqxJW"
      }
    },
    {
      "cell_type": "markdown",
      "source": [
        "#### Chart - 2 -- Count plot\n"
      ],
      "metadata": {
        "id": "KSlN3yHqYklG"
      }
    },
    {
      "cell_type": "code",
      "source": [
        "# Chart - 2 visualization code\n",
        "\n",
        "# Count plot for Distribution of Room Types Distribution of Room Type Visualization\n",
        "\n",
        "plt.figure(figsize=(8, 5)) # Fix fig. size\n",
        "\n",
        "# Ploting countplot for Room type disttibution visulization\n",
        "sns.countplot(data=df, x='room_type', palette='viridis')\n",
        "\n",
        "plt.title('Distribution of Room Types') # Set the title for count plot\n",
        "\n",
        "plt.xlabel('Room Type') # Set x_label\n",
        "\n",
        "plt.ylabel('Count') # Set y)label\n",
        "plt.show()"
      ],
      "metadata": {
        "id": "R4YgtaqtYklH"
      },
      "execution_count": null,
      "outputs": []
    },
    {
      "cell_type": "markdown",
      "source": [
        "##### 1. Why did you pick the specific chart?"
      ],
      "metadata": {
        "id": "t6dVpIINYklI"
      }
    },
    {
      "cell_type": "markdown",
      "source": [
        "I chose a count plot for visualizing the distribution of room types because it effectively displays the frequency of each category (e.g., entire home, private room, shared room) within the dataset. This chart makes it easy to compare the popularity of different room types at a glance and allows us to quickly identify which type is most commonly listed on Airbnb. This insight is essential for understanding market offerings and guest preferences."
      ],
      "metadata": {
        "id": "5aaW0BYyYklI"
      }
    },
    {
      "cell_type": "markdown",
      "source": [
        "##### 2. What is/are the insight(s) found from the chart?"
      ],
      "metadata": {
        "id": "ijmpgYnKYklI"
      }
    },
    {
      "cell_type": "markdown",
      "source": [
        "The chart likely shows that a particular room type, private rooms, has the highest number of listings, indicating a preference among guests for privacy and comfort. On the other hand, entire home/apartment listings are the second most preferred option for guests and travelers based on their comfort. Conversely, if shared rooms have fewer listings, it might suggest that guests are less inclined to book them."
      ],
      "metadata": {
        "id": "PSx9atu2YklI"
      }
    },
    {
      "cell_type": "markdown",
      "source": [
        "##### 3. Will the gained insights help creating a positive business impact?\n",
        "Are there any insights that lead to negative growth? Justify with specific reason."
      ],
      "metadata": {
        "id": "-JiQyfWJYklI"
      }
    },
    {
      "cell_type": "markdown",
      "source": [
        "***Positive Business Impact*** :\n",
        "\n",
        " - **Better Marketing** : By knowing which room types are popular (like entire homes), Airbnb can focus its marketing on these listings. This could attract more guests who want spacious places to stay, leading to more bookings and happier customers.\n",
        "\n",
        " - **Motivating Hosts** : Insights from the data can encourage hosts to offer the types of rooms that guests prefer. For instance, if private rooms are in demand, new hosts might be inspired to provide these options, increasing their chances of getting booked.\n",
        "\n",
        "\n",
        "*** Potential Negative Growth Insights*** :\n",
        "\n",
        " - **Too Many Similar Listings** : If there are too many listings for one type of room (like entire homes), it might create too much competition among hosts. This could lead to lower prices, hurting the income of hosts and causing frustration if they feel undervalued.\n",
        "\n",
        " - **Ignoring Other Options** : If everyone focuses on listing entire homes, there might be fewer affordable options like shared or private rooms. This could turn away budget-conscious travelers who are looking for cheaper stays, which may hurt Airbnb’s image as a platform that caters to all types of guests."
      ],
      "metadata": {
        "id": "BcBbebzrYklV"
      }
    },
    {
      "cell_type": "markdown",
      "source": [
        "#### Chart - 3 -- Histogram\n",
        "\n",
        "\n"
      ],
      "metadata": {
        "id": "EM7whBJCYoAo"
      }
    },
    {
      "cell_type": "code",
      "source": [
        "# Chart - 3 visualization code\n",
        "\n",
        "# Visulization for minimum nights requirment\n",
        "\n",
        "plt.figure(figsize=(8, 5)) # Fix fig, size\n",
        "\n",
        "# Plot histogram for Minimum Nights Requirement\n",
        "sns.histplot(df['minimum_nights'], bins=30, kde=True, color = 'orange')\n",
        "\n",
        "plt.title('Minimum Nights Requirement') # Set title for histogram\n",
        "\n",
        "plt.xlabel('Minimum Nights') # Set x_label\n",
        "\n",
        "plt.ylabel('Frequency') # Set y_label\n",
        "plt.show()"
      ],
      "metadata": {
        "id": "t6GMdE67YoAp"
      },
      "execution_count": null,
      "outputs": []
    },
    {
      "cell_type": "markdown",
      "source": [
        "##### 1. Why did you pick the specific chart?"
      ],
      "metadata": {
        "id": "fge-S5ZAYoAp"
      }
    },
    {
      "cell_type": "markdown",
      "source": [
        "I chose a histogram to visualize the minimum nights requirement because it effectively shows the distribution of this variable across all listings. A histogram allows us to see how many listings have different minimum night requirements, helping us understand trends and patterns in booking practices."
      ],
      "metadata": {
        "id": "5dBItgRVYoAp"
      }
    },
    {
      "cell_type": "markdown",
      "source": [
        "##### 2. What is/are the insight(s) found from the chart?"
      ],
      "metadata": {
        "id": "85gYPyotYoAp"
      }
    },
    {
      "cell_type": "markdown",
      "source": [
        "From the histogram of minimum nights requirement, we can derive several insights:\n",
        "\n",
        "\n",
        " 1. **Common Minimum Nights** : The histogram might reveal that a majority of listings have a minimum night requirement of one night or two nights. This indicates that many hosts prefer shorter stays, which could attract more guests looking for flexibility.\n",
        "\n",
        " 2. **Outliers in Minimum Nights** : If there are several listings with a high minimum night requirement (e.g., 30 nights), it suggests a specific segment of the market catering to long-term stays, which may appeal to different types of travelers (like those on extended vacations or relocations).\n",
        "\n",
        " 3. **Booking Behavior Insights** : The distribution may help identify how rigid or flexible hosts are with their booking policies. For example, a lot of listings with a minimum of three to five nights could indicate a trend towards medium-length stays"
      ],
      "metadata": {
        "id": "4jstXR6OYoAp"
      }
    },
    {
      "cell_type": "markdown",
      "source": [
        "##### 3. Will the gained insights help creating a positive business impact?\n",
        "Are there any insights that lead to negative growth? Justify with specific reason."
      ],
      "metadata": {
        "id": "RoGjAbkUYoAp"
      }
    },
    {
      "cell_type": "markdown",
      "source": [
        "***Positive Business Impact*** :\n",
        "\n",
        "\n",
        " - **Enhanced Booking Flexibility** : Understanding that most listings have a low minimum night requirement can help Airbnb and hosts promote these properties to attract short-term travelers, thereby increasing overall booking rates and customer satisfaction.\n",
        "\n",
        " - **Targeted Marketing for Long Stays** : If there are many listings with higher minimum nights, Airbnb can create marketing strategies to target longer-term guests, potentially increasing the value of those listings and benefiting hosts who cater to this market.\n",
        "\n",
        "***Potential Negative Growth Insights*** :\n",
        "\n",
        " - **High Minimum Night Requirements** : Listings with excessive minimum nights may deter guests looking for short stays. If many hosts set high requirements without corresponding demand, it could lead to lower occupancy rates for those properties, negatively affecting host income and Airbnb’s overall business.\n",
        "\n",
        " - **Market Imbalance** : If the histogram shows a clear bias towards low minimum nights, it might create an imbalance where hosts offering longer stays feel pressured to lower their minimums to compete, possibly leading to dissatisfaction among those who prefer to cater to longer bookings."
      ],
      "metadata": {
        "id": "zfJ8IqMcYoAp"
      }
    },
    {
      "cell_type": "markdown",
      "source": [
        "#### Chart - 4 -- Count Plot"
      ],
      "metadata": {
        "id": "4Of9eVA-YrdM"
      }
    },
    {
      "cell_type": "code",
      "source": [
        "# Chart - 4 visualization code\n",
        "\n",
        "# Visualization of neighbourhood group\n",
        "\n",
        "plt.figure(figsize=(10, 6)) # fix fig, size\n",
        "\n",
        "# Creating count plot for visualization of neighbourhood group\n",
        "sns.countplot(data=df, x='neighbourhood_group', palette='coolwarm')\n",
        "\n",
        "plt.title('Listings Count by Neighbourhood Group') # Set the title for count plot\n",
        "\n",
        "plt.xlabel('Neighbourhood Group') # Set x_label\n",
        "\n",
        "plt.xticks(rotation=45) # Rotate x-axis labels for better readability\n",
        "plt.ylabel('Count') # Set y_label\n",
        "plt.show()\n"
      ],
      "metadata": {
        "id": "irlUoxc8YrdO"
      },
      "execution_count": null,
      "outputs": []
    },
    {
      "cell_type": "markdown",
      "source": [
        "##### 1. Why did you pick the specific chart?"
      ],
      "metadata": {
        "id": "iky9q4vBYrdO"
      }
    },
    {
      "cell_type": "markdown",
      "source": [
        "I chose a count plot to visualize the listings count by neighborhood group because it clearly displays the number of Airbnb listings in each neighborhood. This type of chart effectively highlights the distribution of listings across different areas, making it easy to compare their popularity and market saturation at a glance.\n",
        "\n"
      ],
      "metadata": {
        "id": "aJRCwT6DYrdO"
      }
    },
    {
      "cell_type": "markdown",
      "source": [
        "##### 2. What is/are the insight(s) found from the chart?"
      ],
      "metadata": {
        "id": "F6T5p64dYrdO"
      }
    },
    {
      "cell_type": "markdown",
      "source": [
        "From the count plot of neighborhood groups, we can derive several insights:\n",
        "\n",
        " 1. **Popular Neighborhoods** : The chart shows which neighborhood groups have the most listings (e.g., Brooklyn and Manhattan). If one area has many listings, it likely indicates a strong demand for accommodations there, which can lead to more guests booking stays. We can clearly see that the Bronx and Staten Island have lower bookings.\n",
        "\n",
        " 2. **Growth Opportunities** : Areas with fewer listings may be opportunities for new hosts. If these neighborhoods are not well represented, there might be guests looking for places to stay there, making it a good chance for new listings."
      ],
      "metadata": {
        "id": "Xx8WAJvtYrdO"
      }
    },
    {
      "cell_type": "markdown",
      "source": [
        "##### 3. Will the gained insights help creating a positive business impact?\n",
        "Are there any insights that lead to negative growth? Justify with specific reason."
      ],
      "metadata": {
        "id": "y-Ehk30pYrdP"
      }
    },
    {
      "cell_type": "markdown",
      "source": [
        "***Positive Business Impact*** :\n",
        "\n",
        "\n",
        " 1. **Better Marketing Strategies** : Knowing which neighborhoods are popular helps Airbnb and hosts target their marketing. For example, promoting listings in high-demand areas can attract more guests, which improves booking rates and host satisfaction.\n",
        "\n",
        " 2. **Spotting Under-Served Areas** : The chart can also help identify neighborhoods with fewer listings. Airbnb can encourage more hosts to offer accommodations in these areas, diversifying options for guests.\n",
        "\n",
        "***Potential Negative Insights*** :\n",
        "\n",
        " 1. **Oversaturation Issues** : If a few neighborhoods have too many listings, hosts may end up competing on price, which can lower their profits. This might lead to frustration among hosts if they feel their properties aren’t being valued fairly.\n",
        "\n",
        " 2. **Neglecting Less Popular Areas** : Focusing too much on popular neighborhoods might lead to fewer listings in less popular areas. This could reduce choices for budget travelers and hurt Airbnb’s image as a platform that offers something for everyone."
      ],
      "metadata": {
        "id": "jLNxxz7MYrdP"
      }
    },
    {
      "cell_type": "markdown",
      "source": [
        "#### Chart - 5 -- Histogram\n"
      ],
      "metadata": {
        "id": "bamQiAODYuh1"
      }
    },
    {
      "cell_type": "code",
      "source": [
        "# Chart - 5 visualization code\n",
        "\n",
        "# Visualization of availability(Days in year)\n",
        "\n",
        "plt.figure(figsize=(10, 5)) # Fix fig. size\n",
        "\n",
        "# Creating histogram for availability\n",
        "sns.histplot(df['availability_365'], bins=50, kde=True, color = 'skyblue')\n",
        "\n",
        "plt.title('Listings Availability (Days per Year)') # Set title for histogram\n",
        "\n",
        "plt.xlabel('Availability in Days') # Set x_label\n",
        "\n",
        "plt.ylabel('Frequency') # Set y_label\n",
        "\n",
        "plt.show()\n"
      ],
      "metadata": {
        "id": "TIJwrbroYuh3"
      },
      "execution_count": null,
      "outputs": []
    },
    {
      "cell_type": "markdown",
      "source": [
        "##### 1. Why did you pick the specific chart?"
      ],
      "metadata": {
        "id": "QHF8YVU7Yuh3"
      }
    },
    {
      "cell_type": "markdown",
      "source": [
        "I chose a histogram for this chart because it effectively shows the distribution of the number of days listings are available throughout the year. By using a histogram, we can visualize how many listings are available for various ranges of days, making it easier to identify trends in availability among Airbnb properties."
      ],
      "metadata": {
        "id": "dcxuIMRPYuh3"
      }
    },
    {
      "cell_type": "markdown",
      "source": [
        "##### 2. What is/are the insight(s) found from the chart?"
      ],
      "metadata": {
        "id": "GwzvFGzlYuh3"
      }
    },
    {
      "cell_type": "markdown",
      "source": [
        "From the histogram of availability_365, we can derive several insights:\n",
        "\n",
        " 1. **General Availability Trends** : The histogram likely shows how many listings are available for the entire year versus those that are only available for part of the year. For instance, if many listings are clustered around 365 days, it suggests that many hosts are committed to renting their properties year-round.\n",
        "\n",
        " 2. **Identifying Low Availability** : If there are a significant number of listings available for a few days (e.g., less than 30 days), it could indicate that these properties are used primarily for personal use or have other limitations.\n",
        "\n",
        " 3. **Potential for Seasonal Listings** : If the histogram reveals peaks around certain ranges (like 0-30 days), it might suggest that some listings are only available during peak tourist seasons, indicating a potential market for short-term rentals during busy periods."
      ],
      "metadata": {
        "id": "uyqkiB8YYuh3"
      }
    },
    {
      "cell_type": "markdown",
      "source": [
        "##### 3. Will the gained insights help creating a positive business impact?\n",
        "Are there any insights that lead to negative growth? Justify with specific reason."
      ],
      "metadata": {
        "id": "qYpmQ266Yuh3"
      }
    },
    {
      "cell_type": "markdown",
      "source": [
        "***Positive Business Impact*** :\n",
        "\n",
        "\n",
        " 1. **Better Marketing Strategies** : By understanding when listings are available, Airbnb can better promote properties that are open all year. This could attract more long-term travelers who need a place to stay for an extended period.\n",
        "\n",
        " 2. **Opportunities for Growth** : If many listings are only available for a few days, it indicates that there’s a chance for hosts to rent their properties more often. Airbnb can encourage these hosts to make their properties available for longer, which could lead to more bookings.\n",
        "\n",
        "***Potential Negative Insights*** :\n",
        "\n",
        "\n",
        " 1. **Imbalance in Options** : If many listings are only available for short stays, travelers looking for longer accommodations might not find enough choices. This could lead them to choose other platforms instead of Airbnb.\n",
        "\n",
        " 2. **Wasted Potential** : If hosts are not renting out their properties year-round, they could be missing out on potential income. Airbnb might need to offer support or incentives to help these hosts keep their listings available more consistently."
      ],
      "metadata": {
        "id": "_WtzZ_hCYuh4"
      }
    },
    {
      "cell_type": "markdown",
      "source": [
        "#### **Bivariate Analysis**"
      ],
      "metadata": {
        "id": "1tWEfhxTSnB7"
      }
    },
    {
      "cell_type": "markdown",
      "source": [
        "#### Chart - 6 --Bar Chart"
      ],
      "metadata": {
        "id": "OH-pJp9IphqM"
      }
    },
    {
      "cell_type": "code",
      "source": [
        "# Chart - 6 visualization code\n",
        "\n",
        "# Visualization of average price by room_type\n",
        "\n",
        "plt.figure(figsize=(8, 6)) # Fix fig. size\n",
        "\n",
        "# Creating a bar plot for Visualization of average price by room_type\n",
        "sns.barplot(data=df, x='room_type', y='price', estimator=np.mean, ci=None, palette='viridis')\n",
        "\n",
        "plt.title('Average Price by Room Type') # Set title for barplot\n",
        "\n",
        "plt.xlabel('Room Type') # Set X_label\n",
        "\n",
        "plt.ylabel('Average Price') # Set Y_label\n",
        "\n",
        "plt.show()\n"
      ],
      "metadata": {
        "id": "kuRf4wtuphqN"
      },
      "execution_count": null,
      "outputs": []
    },
    {
      "cell_type": "markdown",
      "source": [
        "##### 1. Why did you pick the specific chart?"
      ],
      "metadata": {
        "id": "bbFf2-_FphqN"
      }
    },
    {
      "cell_type": "markdown",
      "source": [
        "I chose a bar plot to visualize the average price by room type because bar plots are effective for comparing categorical data with numerical values. Here, we are interested in understanding how prices differ between various room types (Entire home/apt, Private room, Shared room, etc.). A bar plot makes it easy to see which room types are priced higher on average and allows for quick comparisons among categories, which aligns well with the goal of understanding price trends across different types of listings.\n"
      ],
      "metadata": {
        "id": "loh7H2nzphqN"
      }
    },
    {
      "cell_type": "markdown",
      "source": [
        "##### 2. What is/are the insight(s) found from the chart?"
      ],
      "metadata": {
        "id": "_ouA3fa0phqN"
      }
    },
    {
      "cell_type": "markdown",
      "source": [
        "From the bar plot showing the average price by room type, several insights can be drawn:\n",
        "\n",
        " 1. **Higher Pricing for Entire Homes** : Listings that are for entire homes or apartments tend to have a higher average price compared to private rooms or shared rooms. This likely reflects the added privacy, space, and amenities offered in entire properties.\n",
        "\n",
        " 2. **Economical Options in Private and Shared Rooms** : Private rooms and shared rooms generally have a lower average price, which may appeal to budget-conscious travelers. This could indicate that these room types attract a different demographic, such as solo travelers or those prioritizing affordability.\n",
        "\n",
        " 3. **Market Segmentation** : The difference in average prices suggests a segmentation of listings catering to various guest preferences and budgets. Entire homes are likely targeting families or groups, while private or shared rooms are more appealing for individuals or budget travelers.\n"
      ],
      "metadata": {
        "id": "VECbqPI7phqN"
      }
    },
    {
      "cell_type": "markdown",
      "source": [
        "##### 3. Will the gained insights help creating a positive business impact?\n",
        "Are there any insights that lead to negative growth? Justify with specific reason."
      ],
      "metadata": {
        "id": "Seke61FWphqN"
      }
    },
    {
      "cell_type": "markdown",
      "source": [
        "***Positive Business Impact*** :\n",
        "\n",
        "\n",
        " 1. **Targeted Marketing** : Knowing that entire homes usually have higher prices can help Airbnb promote these listings to families and groups looking for more space and privacy. At the same time, they can highlight private and shared rooms as budget-friendly options to attract cost-conscious travelers.\n",
        "\n",
        " 2. **Better Pricing Strategies for Hosts** : Hosts can use this information to set prices that match guest expectations. For example, hosts with private rooms might focus on affordability, while those with entire homes could emphasize comfort and privacy. This approach can lead to more bookings and happier guests.\n",
        "\n",
        " 3. **Customized Recommendations for Hosts** : Airbnb can suggest which room types to offer based on demand in different locations. For instance, if private rooms are popular in a certain area, Airbnb can encourage new hosts to list this type to meet guest demand.\n",
        "\n",
        "\n",
        "***Potential Negative Growth Insights*** :\n",
        "\n",
        " 1. **Too Many High-Priced Listings** : If a lot of hosts choose to list entire homes to get higher prices, it might create an oversupply. This could increase competition and drive down prices, which might reduce profitability for hosts.\n",
        "\n",
        " 2. **Fewer Affordable Options** : If more hosts focus on entire homes, there might be fewer private or shared rooms available. This could make it harder for budget travelers to find affordable options, potentially pushing them to competitor platforms with more economical choices."
      ],
      "metadata": {
        "id": "DW4_bGpfphqN"
      }
    },
    {
      "cell_type": "markdown",
      "source": [
        "#### Chart - 7 -- Box plot"
      ],
      "metadata": {
        "id": "PIIx-8_IphqN"
      }
    },
    {
      "cell_type": "code",
      "source": [
        "# Chart - 7 visualization code\n",
        "\n",
        "# Visualization of neighbourhood_group vs price\n",
        "\n",
        "plt.figure(figsize=(10, 6)) # Fix fig. size\n",
        "\n",
        "# Creating boxplot for Visualization of neighbourhood_group vs price\n",
        "sns.boxplot(data=df, x='neighbourhood_group', y='price', palette='pastel')\n",
        "\n",
        "plt.title('Price Distribution by Neighbourhood Group') # Set the title for box plot\n",
        "\n",
        "plt.xlabel('Neighbourhood Group') # Set X_label\n",
        "\n",
        "plt.ylabel('Price') # Set Y_label\n",
        "\n",
        "plt.show()\n"
      ],
      "metadata": {
        "id": "lqAIGUfyphqO"
      },
      "execution_count": null,
      "outputs": []
    },
    {
      "cell_type": "markdown",
      "source": [
        "##### 1. Why did you pick the specific chart?"
      ],
      "metadata": {
        "id": "t27r6nlMphqO"
      }
    },
    {
      "cell_type": "markdown",
      "source": [
        "I choose boxplot because it is ideal for comparing price distributions across different neighbourhood_group values. This type of chart shows not only the range of prices but also highlights the median, quartiles, and potential outliers for each neighborhood group. This is useful for understanding price variations within each group and for spotting any outlier listings with unusually high or low prices."
      ],
      "metadata": {
        "id": "iv6ro40sphqO"
      }
    },
    {
      "cell_type": "markdown",
      "source": [
        "##### 2. What is/are the insight(s) found from the chart?"
      ],
      "metadata": {
        "id": "r2jJGEOYphqO"
      }
    },
    {
      "cell_type": "markdown",
      "source": [
        "Following insights can be drawn from the box plot:\n",
        "\n",
        " 1. **Price Differences by Neighborhood** : The boxplot shows that some neighborhood groups have higher average prices, which may indicate these are popular or upscale areas. Lower-priced neighborhoods could be more appealing for budget travelers.\n",
        "\n",
        " 2. **Price Range and Outliers** : The chart also shows the spread of prices within each neighborhood group. Some areas may have high-end properties that are outliers, which represent luxury listings.\n",
        "\n",
        " 3. **Price Consistency** : In certain neighborhoods, prices are more consistent, while others show a broader range. A wider range could mean a mix of affordable and luxury listings, while consistent neighborhoods may target a specific guest type."
      ],
      "metadata": {
        "id": "Po6ZPi4hphqO"
      }
    },
    {
      "cell_type": "markdown",
      "source": [
        "##### 3. Will the gained insights help creating a positive business impact?\n",
        "Are there any insights that lead to negative growth? Justify with specific reason."
      ],
      "metadata": {
        "id": "b0JNsNcRphqO"
      }
    },
    {
      "cell_type": "markdown",
      "source": [
        "***Positive Business Impact*** :\n",
        "\n",
        "\n",
        " 1. **Better Pricing and Marketing** : Knowing which areas have higher prices allows Airbnb to market them as premium neighborhoods, appealing to guests who want a luxury experience. Hosts can adjust their prices according to neighborhood trends, making their listings more competitive and attractive.\n",
        "\n",
        " 2. **Helpful for New Hosts** : This data can help new hosts set prices that fit with the neighborhood average, making their listing more appealing to guests by aligning with what’s expected in that area.\n",
        "\n",
        " 3. **Targeted Campaigns** : Airbnb can design campaigns focused on budget-friendly neighborhoods for cost-conscious travelers and premium neighborhoods for those seeking a high-end stay. This approach could attract a wider range of guests.\n",
        "\n",
        "***Potential Negative Growth Insights*** :\n",
        "\n",
        "\n",
        " 1. **Risk of Overpricing** : If some neighborhoods are much pricier, this could lead to overpricing, which may discourage budget travelers from booking in those areas, resulting in more vacant days for hosts.\n",
        "\n",
        " 2. **Lack of Affordable Options** : If certain areas only have expensive listings, it may limit options for budget travelers. This could push budget-conscious guests to choose other platforms with more affordable listings, reducing Airbnb's potential bookings."
      ],
      "metadata": {
        "id": "xvSq8iUTphqO"
      }
    },
    {
      "cell_type": "markdown",
      "source": [
        "#### Chart - 8 -- Bar Chart"
      ],
      "metadata": {
        "id": "BZR9WyysphqO"
      }
    },
    {
      "cell_type": "code",
      "source": [
        "# Chart - 8 visualization code\n",
        "\n",
        "# Visualization of number of reviews for neighbourhood_group\n",
        "\n",
        "# Create a scatter plot to visualize the relationship between number of reviews and neighbourhood group\n",
        "plt.figure(figsize=(10, 6)) # Set the fig size\n",
        "sns.barplot(data=df, x='neighbourhood_group', y='number_of_reviews', estimator=sum, palette='plasma')\n",
        "\n",
        "plt.title('Total Number of Reviews by Neighbourhood Group') # Set title for barplot\n",
        "\n",
        "plt.xlabel('Neighbourhood Group') # Set X_label\n",
        "\n",
        "plt.ylabel('Total Reviews') # Set Y_label\n",
        "\n",
        "plt.show()\n"
      ],
      "metadata": {
        "id": "TdPTWpAVphqO"
      },
      "execution_count": null,
      "outputs": []
    },
    {
      "cell_type": "markdown",
      "source": [
        "##### 1. Why did you pick the specific chart?"
      ],
      "metadata": {
        "id": "jj7wYXLtphqO"
      }
    },
    {
      "cell_type": "markdown",
      "source": [
        "This bar plot was chosen to visually compare the total number of reviews across different neighborhood groups. It provides a clear view of which neighborhoods are generating the most reviews, which can serve as a rough indicator of guest activity or popularity. The use of a bar plot with summed values makes it easy to see and compare the cumulative activity level in each neighborhood group."
      ],
      "metadata": {
        "id": "Ob8u6rCTphqO"
      }
    },
    {
      "cell_type": "markdown",
      "source": [
        "##### 2. What is/are the insight(s) found from the chart?"
      ],
      "metadata": {
        "id": "eZrbJ2SmphqO"
      }
    },
    {
      "cell_type": "markdown",
      "source": [
        "There are following insights from bar chart :\n",
        "\n",
        " 1. **Guest Activity by Neighborhood** : Neighborhood groups with higher total reviews likely have higher guest activity or popularity. This can signal areas with more frequent bookings or high guest satisfaction, as guests tend to leave reviews after a positive experience.\n",
        "\n",
        " 2. **Potential Guest Interest Patterns** : Neighborhoods with fewer reviews might indicate less guest interest, fewer available listings, or areas with less competitive prices or amenities, potentially signaling areas for development."
      ],
      "metadata": {
        "id": "mZtgC_hjphqO"
      }
    },
    {
      "cell_type": "markdown",
      "source": [
        "##### 3. Will the gained insights help creating a positive business impact?\n",
        "Are there any insights that lead to negative growth? Justify with specific reason."
      ],
      "metadata": {
        "id": "rFu4xreNphqO"
      }
    },
    {
      "cell_type": "markdown",
      "source": [
        "\n",
        "***Positive Business Impact*** :\n",
        "\n",
        "\n",
        " 1. **Promoting Popular Neighborhoods** : Airbnb can advertise listings in neighborhoods with high guest activity. Since these areas are already popular, marketing them can attract even more guests who are looking for well-reviewed, desirable locations.\n",
        "\n",
        " 2. **Finding Growth Opportunities** : Neighborhoods with fewer reviews might be underused or less known. Airbnb could encourage hosts in these areas to improve their listings or offer competitive prices. This could attract guests to explore these less crowded areas, balancing guest interest across neighborhoods.\n",
        "\n",
        " 3. **Supporting Successful Hosts** : In neighborhoods with many reviews, Airbnb can support hosts by encouraging them to keep up the good service and consider adjusting prices if demand is high. This can lead to better occupancy rates and profitability for both Airbnb and the hosts.\n",
        "\n",
        "***Potential Negative Growth Insights*** :\n",
        "\n",
        " 1. **Too Much Competition in Popular Areas** : High review counts in certain neighborhoods may mean overcrowding and competition among hosts. This can lead to price cuts as hosts try to attract more bookings, which may reduce overall profitability.\n",
        "\n",
        " 2. **Limited Choices in Less Popular Areas** : If Airbnb mainly promotes popular neighborhoods, less-known neighborhoods may be ignored. This could discourage guests who prefer quieter, less touristy areas, potentially pushing them toward other platforms with diverse location options."
      ],
      "metadata": {
        "id": "ey_0qi68phqO"
      }
    },
    {
      "cell_type": "markdown",
      "source": [
        "#### Chart - 9 -- Box Plot"
      ],
      "metadata": {
        "id": "YJ55k-q6phqO"
      }
    },
    {
      "cell_type": "code",
      "source": [
        "# Chart - 9 visualization code\n",
        "\n",
        "# Visualization Room Type vs. Availability\n",
        "\n",
        "plt.figure(figsize=(10, 6)) # Set fig. size\n",
        "\n",
        "# Creating boxplot for box plot\n",
        "sns.boxplot(data=df, x='room_type', y='availability_365', palette='spring')\n",
        "\n",
        "plt.title('Room Type vs Availability') # Set title for boxplot\n",
        "\n",
        "plt.xlabel('Room Type') # Set X_label\n",
        "\n",
        "plt.ylabel('Availability (Days)') # Set Y_label\n",
        "\n",
        "plt.show()\n",
        "\n",
        "\n"
      ],
      "metadata": {
        "id": "B2aS4O1ophqO"
      },
      "execution_count": null,
      "outputs": []
    },
    {
      "cell_type": "markdown",
      "source": [
        "##### 1. Why did you pick the specific chart?"
      ],
      "metadata": {
        "id": "gCFgpxoyphqP"
      }
    },
    {
      "cell_type": "markdown",
      "source": [
        "The box plot is chosen to show the distribution of availability (in days) across different room types. This chart helps visualize the median availability, the range, and any outliers in each room type category, making it easy to compare the availability trends across room types (e.g., entire homes, private rooms, shared rooms)."
      ],
      "metadata": {
        "id": "TVxDimi2phqP"
      }
    },
    {
      "cell_type": "markdown",
      "source": [
        "##### 2. What is/are the insight(s) found from the chart?"
      ],
      "metadata": {
        "id": "OVtJsKN_phqQ"
      }
    },
    {
      "cell_type": "markdown",
      "source": [
        "There are following insights can be drawn :\n",
        "\n",
        " 1. **Higher Availability for Certain Room Types** : Entire homes or apartments might show greater availability, indicating that these properties are typically listed for more days throughout the year.\n",
        "\n",
        " 2. **Variability in Availability** : Private or shared rooms might show greater variation in availability, with some being available year-round and others for shorter periods.\n",
        "\n",
        " 3. **Outliers** : The box plot may reveal outliers where some listings have extremely low availability, possibly due to occasional rentals or seasonal use."
      ],
      "metadata": {
        "id": "ngGi97qjphqQ"
      }
    },
    {
      "cell_type": "markdown",
      "source": [
        "##### 3. Will the gained insights help creating a positive business impact?\n",
        "Are there any insights that lead to negative growth? Justify with specific reason."
      ],
      "metadata": {
        "id": "lssrdh5qphqQ"
      }
    },
    {
      "cell_type": "markdown",
      "source": [
        "***Positive Business Impact*** :\n",
        "\n",
        "\n",
        " 1. **Better Recommendations for Guests** : Airbnb can help guests find the right room type based on how often they are available. For example, if someone wants to stay year-round, they can be directed to entire homes. For shorter stays, private rooms might be a better choice.\n",
        "\n",
        " 2. **Guiding Hosts on Availability** : Hosts can compare their room type's availability with others. If private rooms are usually listed more often, new hosts with similar rooms might decide to make their listings available more days to attract more guests.\n",
        "\n",
        "\n",
        "***Potential Negative Growth Insights*** :\n",
        "\n",
        "\n",
        " 1. **Missed Booking Opportunities** : If entire homes are not available enough, Airbnb could lose out on potential bookings. This suggests that some listings aren't being used to their full potential for guests looking for longer stays.\n",
        "\n",
        " 2. **Fewer Budget Options** : If private or shared rooms are not available often, it can limit affordable choices for budget travelers. Over time, this might push guests to other platforms that offer more budget-friendly listings."
      ],
      "metadata": {
        "id": "tBpY5ekJphqQ"
      }
    },
    {
      "cell_type": "markdown",
      "source": [
        "#### Chart - 10 -- Bar Chart"
      ],
      "metadata": {
        "id": "U2RJ9gkRphqQ"
      }
    },
    {
      "cell_type": "code",
      "source": [
        "# Chart - 10 visualization code\n",
        "\n",
        "# Visualization of seasonal booking trends\n",
        "\n",
        "plt.figure(figsize=(10, 6)) # Fix Fig. size\n",
        "\n",
        "# Creating bar chart for visualization of seasonal booking trends\n",
        "sns.barplot(data=monthly_bookings, x='month', y='number_of_reviews', palette='YlGnBu')\n",
        "\n",
        "plt.title('Monthly Booking Trends Based on Number of Reviews') # Set title for bar chart\n",
        "\n",
        "plt.xlabel('Month') # Set X-label\n",
        "\n",
        "plt.ylabel('Total Reviews') # Set Y_label\n",
        "\n",
        "plt.show()\n",
        "\n",
        "\n"
      ],
      "metadata": {
        "id": "GM7a4YP4phqQ"
      },
      "execution_count": null,
      "outputs": []
    },
    {
      "cell_type": "markdown",
      "source": [
        "##### 1. Why did you pick the specific chart?"
      ],
      "metadata": {
        "id": "1M8mcRywphqQ"
      }
    },
    {
      "cell_type": "markdown",
      "source": [
        "I chose a bar chart to visualize monthly booking trends because it clearly displays the total number of reviews across different months. Bar charts are effective for comparing quantities in distinct categories, allowing for easy identification of peak booking months and trends over the year."
      ],
      "metadata": {
        "id": "8agQvks0phqQ"
      }
    },
    {
      "cell_type": "markdown",
      "source": [
        "##### 2. What is/are the insight(s) found from the chart?"
      ],
      "metadata": {
        "id": "tgIPom80phqQ"
      }
    },
    {
      "cell_type": "markdown",
      "source": [
        "***From the bar chart, we can derive several insights*** :\n",
        "\n",
        " 1. **Peak Booking Periods** : The chart likely indicates which months have the highest number of reviews, suggesting when demand is strongest. For instance, if certain months show a spike in reviews, it indicates those are popular times for travelers.\n",
        "\n",
        " 2. **Low Booking Months** : Conversely, months with very few reviews may highlight off-peak seasons. This information can help hosts and Airbnb strategize on pricing and promotions during these slower months.\n",
        "\n",
        " 3. **Trend Patterns** : Analyzing the overall trend across the months can reveal seasonal patterns in bookings, helping to forecast future demand based on historical data."
      ],
      "metadata": {
        "id": "Qp13pnNzphqQ"
      }
    },
    {
      "cell_type": "markdown",
      "source": [
        "##### 3. Will the gained insights help creating a positive business impact?\n",
        "Are there any insights that lead to negative growth? Justify with specific reason."
      ],
      "metadata": {
        "id": "JMzcOPDDphqR"
      }
    },
    {
      "cell_type": "markdown",
      "source": [
        "***Positive Business Impact*** :\n",
        "\n",
        "\n",
        " 1. **Informed Pricing and Promotions** : Understanding when peak booking months occur allows Airbnb and hosts to implement dynamic pricing strategies. For example, they can increase prices during high-demand months and offer discounts during off-peak times to boost bookings.\n",
        "\n",
        " 2. **Targeted Marketing Campaigns** : Insights about seasonal trends can help Airbnb design marketing campaigns that target travelers at specific times of the year, promoting listings when guests are most likely to book.\n",
        "\n",
        "\n",
        "***Potential Negative Growth Insights*** :\n",
        "\n",
        "\n",
        " 1. **Overcrowding During Peak Times** : If many hosts raise prices during peak months due to high demand, it might deter budget-conscious travelers, leading to vacancies and reduced guest satisfaction.\n",
        "\n",
        " 2. **Neglecting Off-Peak Months** : If there’s a significant focus on peak months, less attention may be paid to improving listings or attracting guests during off-peak periods, potentially causing missed opportunities to grow bookings throughout the year."
      ],
      "metadata": {
        "id": "R4Ka1PC2phqR"
      }
    },
    {
      "cell_type": "markdown",
      "source": [
        "#### Multivariate Visualizations"
      ],
      "metadata": {
        "id": "6bOGpvVTeMvm"
      }
    },
    {
      "cell_type": "markdown",
      "source": [
        "#### Chart - 11 -- Bar Chart"
      ],
      "metadata": {
        "id": "x-EpHcCOp1ci"
      }
    },
    {
      "cell_type": "code",
      "source": [
        "# Chart - 11 visualization code\n",
        "\n",
        "# Visualization of Average Price by Neighbourhood Group and Room Type\n",
        "\n",
        "plt.figure(figsize=(12, 8)) # Fix fig. size\n",
        "\n",
        "# Creating bar plot for Average Price by Neighbourhood Group and Room Type\n",
        "sns.barplot(data=grouped_neighbourhood_room, x='neighbourhood_group', y='mean_price', hue='room_type', palette='Set2')\n",
        "\n",
        "plt.title('Average Price by Neighbourhood Group and Room Type') # Set title for bar plot\n",
        "\n",
        "plt.xlabel('Neighbourhood Group') # Set X_label\n",
        "\n",
        "plt.ylabel('Average Price') # Set Y_label\n",
        "\n",
        "plt.legend(title='Room Type') # Set legend title\n",
        "\n",
        "plt.xticks(rotation=45) # Rotate x-axis labels for better readability\n",
        "\n",
        "plt.show()\n"
      ],
      "metadata": {
        "id": "mAQTIvtqp1cj"
      },
      "execution_count": null,
      "outputs": []
    },
    {
      "cell_type": "markdown",
      "source": [
        "##### 1. Why did you pick the specific chart?"
      ],
      "metadata": {
        "id": "X_VqEhTip1ck"
      }
    },
    {
      "cell_type": "markdown",
      "source": [
        "I chose a bar plot for this visualization because it effectively compares average prices across different neighborhood groups while also allowing us to differentiate between room types. Bar plots are particularly useful for showing categorical comparisons, making it easy to see trends and differences in pricing."
      ],
      "metadata": {
        "id": "-vsMzt_np1ck"
      }
    },
    {
      "cell_type": "markdown",
      "source": [
        "##### 2. What is/are the insight(s) found from the chart?"
      ],
      "metadata": {
        "id": "8zGJKyg5p1ck"
      }
    },
    {
      "cell_type": "markdown",
      "source": [
        "***The bar plot provides several key insights*** :\n",
        "\n",
        "\n",
        " 1. **Price Variation by Room Type** : The chart likely illustrates how average prices differ not just by neighborhood group but also by room type. For instance, entire homes may have significantly higher average prices than private or shared rooms, indicating their appeal to families or groups.\n",
        "\n",
        " 2. **Neighborhood Pricing Trends** : Certain neighborhood groups may consistently show higher or lower average prices across all room types. This can help identify upscale areas versus budget-friendly options.\n",
        "\n",
        " 3. Market Positioning **bold text** : If specific room types dominate certain neighborhoods, it indicates a concentration of supply, which can inform both potential hosts and Airbnb about where to focus their marketing efforts or encourage new listings."
      ],
      "metadata": {
        "id": "ZYdMsrqVp1ck"
      }
    },
    {
      "cell_type": "markdown",
      "source": [
        "##### 3. Will the gained insights help creating a positive business impact?\n",
        "Are there any insights that lead to negative growth? Justify with specific reason."
      ],
      "metadata": {
        "id": "PVzmfK_Ep1ck"
      }
    },
    {
      "cell_type": "markdown",
      "source": [
        "***Positive Business Impact*** :\n",
        "\n",
        " 1. **Targeted Marketing Strategies** : Knowing which neighborhoods command higher prices for specific room types allows Airbnb to create targeted marketing campaigns. For example, they can promote entire homes in upscale neighborhoods to attract higher-income travelers, while also highlighting budget-friendly private rooms in more affordable areas.\n",
        "\n",
        " 2. **Guidance for Hosts** : These insights can help current and prospective hosts set competitive prices based on their neighborhood and room type, optimizing their listings for better visibility and bookings.\n",
        "\n",
        "\n",
        "***Potential Negative Growth Insights*** :\n",
        "\n",
        " 1. **Risk of Overpricing** : If hosts in popular neighborhoods set prices too high based on these averages, they may deter potential guests, leading to lower occupancy rates. Balancing pricing with demand is crucial to avoid vacancies.\n",
        "\n",
        " 2. **Limited Options for Diverse Travelers** : If the focus is predominantly on high-priced listings, budget-conscious travelers might find fewer options available, potentially steering them toward competitors with more affordable offerings."
      ],
      "metadata": {
        "id": "druuKYZpp1ck"
      }
    },
    {
      "cell_type": "markdown",
      "source": [
        "#### Chart - 12 -- Bar chart and line chart"
      ],
      "metadata": {
        "id": "n3dbpmDWp1ck"
      }
    },
    {
      "cell_type": "code",
      "source": [
        "# Chart - 12 visualization code\n",
        "\n",
        "# Visualization of  Seasonal Trends in Price and Bookings\n",
        "fig, ax1 = plt.subplots(figsize=(10, 6))\n",
        "\n",
        "# Creating a bar chart\n",
        "sns.barplot(data=seasonal_bookings, x='season', y='number_of_reviews', color='skyblue', ax=ax1)\n",
        "\n",
        "ax1.set_ylabel('Total Reviews', color='blue') # Set X_label\n",
        "\n",
        "ax1.set_xlabel('Season') # Set Y_label\n",
        "\n",
        "# Creating a second y-axis for average price\n",
        "ax2 = ax1.twinx()\n",
        "\n",
        "# Creating line plot\n",
        "sns.lineplot(data=seasonal_bookings, x='season', y='price', color='red', marker='o', ax=ax2)\n",
        "\n",
        "ax2.set_ylabel('Average Price', color='red') # Set Y_label with color = red\n",
        "\n",
        "plt.title('Seasonal Trends in Bookings and Price') # Set title for line plot\n",
        "\n",
        "plt.show()\n"
      ],
      "metadata": {
        "id": "bwevp1tKp1ck"
      },
      "execution_count": null,
      "outputs": []
    },
    {
      "cell_type": "markdown",
      "source": [
        "##### 1. Why did you pick the specific chart?"
      ],
      "metadata": {
        "id": "ylSl6qgtp1ck"
      }
    },
    {
      "cell_type": "markdown",
      "source": [
        "I chose a dual-axis bar and line plot for this visualization because it allows for a clear comparison between two different but related metrics: the total number of reviews (as a proxy for bookings) and the average price across different seasons. The bar plot effectively shows the number of bookings, while the line plot illustrates how average prices change with the seasons, providing a comprehensive view of seasonal trends."
      ],
      "metadata": {
        "id": "m2xqNkiQp1ck"
      }
    },
    {
      "cell_type": "markdown",
      "source": [
        "##### 2. What is/are the insight(s) found from the chart?"
      ],
      "metadata": {
        "id": "ZWILFDl5p1ck"
      }
    },
    {
      "cell_type": "markdown",
      "source": [
        "***The dual-axis plot provides several valuable insights*** :\n",
        "\n",
        " 1. **Seasonal Booking Patterns** : The bar chart likely reveals peaks in bookings during specific seasons, such as summer or holidays, indicating when travelers are most active.\n",
        "\n",
        " 2. **Price Fluctuations** : The line plot likely shows how average prices vary throughout the seasons. For instance, if prices rise during peak booking seasons, it suggests increased demand which could impact revenue for hosts and Airbnb.\n",
        "\n",
        " 3. **Relationship Between Price and Bookings** : By comparing the two plots, we can observe whether higher prices correspond to increased bookings or if there is a threshold beyond which bookings decline, providing insights into price sensitivity among guests."
      ],
      "metadata": {
        "id": "x-lUsV2mp1ck"
      }
    },
    {
      "cell_type": "markdown",
      "source": [
        "##### 3. Will the gained insights help creating a positive business impact?\n",
        "Are there any insights that lead to negative growth? Justify with specific reason."
      ],
      "metadata": {
        "id": "M7G43BXep1ck"
      }
    },
    {
      "cell_type": "markdown",
      "source": [
        "***Positive Business Impact*** :\n",
        "\n",
        "\n",
        " 1. **Optimized Pricing Strategies** : Understanding seasonal trends in price and bookings enables Airbnb to develop dynamic pricing strategies. For instance, they can encourage hosts to adjust their prices based on predicted booking trends, maximizing revenue during peak seasons while remaining competitive during off-seasons.\n",
        "\n",
        " 2. **Targeted Marketing Campaigns** : Insights from the chart can help inform marketing campaigns. For example, if summer shows high bookings, Airbnb can launch targeted promotions for that season, enticing more guests to book listings.\n",
        "\n",
        "***Potential Negative Growth Insights*** :\n",
        "\n",
        "\n",
        " 1. **Overpricing Risks** : If hosts increase prices significantly during high-demand seasons, it could lead to reduced bookings if guests perceive the prices as too high. This could potentially deter travelers from booking on Airbnb in favor of more affordable alternatives.\n",
        "\n",
        " 2. **Market Saturation in Peak Seasons** : If there’s a substantial increase in listings during peak seasons, it may lead to overcrowding. This could create price competition, potentially driving down prices and affecting host profitability."
      ],
      "metadata": {
        "id": "5wwDJXsLp1cl"
      }
    },
    {
      "cell_type": "markdown",
      "source": [
        "#### Chart - 13 -- Bar chart"
      ],
      "metadata": {
        "id": "Ag9LCva-p1cl"
      }
    },
    {
      "cell_type": "code",
      "source": [
        "# Chart - 13 visualization code\n",
        "\n",
        "# Visualization of Average Price by Neighbourhood Group and Season\n",
        "\n",
        "plt.figure(figsize=(12, 8)) # Fix fig. size\n",
        "\n",
        "# Creating barplot for Average Price by Neighbourhood Group and Season\n",
        "sns.barplot(data=avg_location, x='neighbourhood_group', y='avg_price', hue='season', palette='Set1')\n",
        "\n",
        "plt.title('Average Price by Neighbourhood Group and Season') # Set title for bar plot\n",
        "\n",
        "plt.xlabel('Neighbourhood Group') # Set X_label\n",
        "\n",
        "plt.ylabel('Average Price') # Set Y_label\n",
        "\n",
        "plt.legend(title='Season') # Activate legend\n",
        "\n",
        "plt.xticks(rotation=45) # Rotate x-axis labels for better readability\n",
        "\n",
        "plt.show()\n"
      ],
      "metadata": {
        "id": "EUfxeq9-p1cl"
      },
      "execution_count": null,
      "outputs": []
    },
    {
      "cell_type": "markdown",
      "source": [
        "##### 1. Why did you pick the specific chart?"
      ],
      "metadata": {
        "id": "E6MkPsBcp1cl"
      }
    },
    {
      "cell_type": "markdown",
      "source": [
        "I selected a bar plot to visualize average prices by neighborhood group and season because it effectively allows for the comparison of multiple categories across two dimensions. The bars represent average prices in different neighborhood groups, while the color coding by season provides insight into how prices fluctuate depending on the time of year. This format makes it easy to identify trends and differences at a glance."
      ],
      "metadata": {
        "id": "V22bRsFWp1cl"
      }
    },
    {
      "cell_type": "markdown",
      "source": [
        "##### 2. What is/are the insight(s) found from the chart?"
      ],
      "metadata": {
        "id": "2cELzS2fp1cl"
      }
    },
    {
      "cell_type": "markdown",
      "source": [
        "***The bar plot can reveal several key insights*** :\n",
        "\n",
        "\n",
        " 1. **Seasonal Price Variability** : Different seasons may show distinct average prices across neighborhood groups. For example, if summer prices are consistently higher across several neighborhoods, it indicates strong demand during that period.\n",
        "\n",
        " 2. **Neighborhood Price Disparities** : The plot likely highlights which neighborhood groups are priced higher overall. If certain neighborhoods maintain higher average prices across all seasons, they may be perceived as more desirable or upscale.\n",
        "\n",
        " 3. **Price Trends by Neighborhood** : By analyzing how prices for each neighborhood change across seasons, we can identify potential seasonal trends that may affect guest behavior and host pricing strategies."
      ],
      "metadata": {
        "id": "ozQPc2_Ip1cl"
      }
    },
    {
      "cell_type": "markdown",
      "source": [
        "##### 3. Will the gained insights help creating a positive business impact?\n",
        "Are there any insights that lead to negative growth? Justify with specific reason."
      ],
      "metadata": {
        "id": "3MPXvC8up1cl"
      }
    },
    {
      "cell_type": "markdown",
      "source": [
        "***Positive Business Impact*** :\n",
        "\n",
        "\n",
        " 1. **Informed Pricing Strategies** : The insights gained from this chart can help Airbnb and its hosts set competitive prices based on neighborhood demand patterns. If hosts in high-demand neighborhoods see that prices increase in certain seasons, they can strategically raise their rates to maximize revenue.\n",
        "\n",
        " 2. **Targeted Promotions** : Understanding seasonal pricing trends can inform Airbnb's marketing strategies. For example, if certain neighborhoods show increased prices during the summer, Airbnb can promote these areas to attract guests looking for vacation stays, driving more traffic to these listings.\n",
        "\n",
        "***Potential Negative Growth Insights*** :\n",
        "\n",
        "\n",
        " 1. **Risk of Overpricing** : If hosts raise prices significantly in high-demand seasons without considering market saturation, it might deter potential guests, leading to decreased bookings. This can be particularly problematic in neighborhoods with many listings.\n",
        "\n",
        " 2. **Imbalance in Supply and Demand** : If a neighborhood consistently has higher prices and limited availability, it may create frustration for guests seeking affordable options, pushing them to look for alternatives outside of Airbnb."
      ],
      "metadata": {
        "id": "GL8l1tdLp1cl"
      }
    },
    {
      "cell_type": "markdown",
      "source": [
        "#### Chart - 14 -- Count plot"
      ],
      "metadata": {
        "id": "ljWVezIcokI2"
      }
    },
    {
      "cell_type": "code",
      "source": [
        "# Chart - 14 visualization code\n",
        "\n",
        "# Visualization of  Engagement Category by Room Type and Neighbourhood Group\n",
        "\n",
        "plt.figure(figsize=(10, 6)) # Fix fig. size\n",
        "\n",
        "# Creating countplot for visualization of  Engagement Category by Room Type and Neighbourhood Group\n",
        "sns.countplot(data=df, x='room_type', hue='engagement_category', palette='Paired')\n",
        "\n",
        "plt.title('Engagement Category by Room Type and Neighbourhood Group') # Set title for countplot\n",
        "\n",
        "plt.xlabel('Room Type') # Set X_label\n",
        "\n",
        "plt.ylabel('Count') # Set Y_label\n",
        "\n",
        "plt.legend(title='Engagement Category') # Activate legend\n",
        "\n",
        "plt.xticks(rotation=45) # Rotate x-axis labels for better readability\n",
        "\n",
        "plt.show()"
      ],
      "metadata": {
        "id": "huckoUk7od6P"
      },
      "execution_count": null,
      "outputs": []
    },
    {
      "cell_type": "markdown",
      "source": [
        "##### 1. Why did you pick the specific chart?"
      ],
      "metadata": {
        "id": "WVRfTG7U2KBD"
      }
    },
    {
      "cell_type": "markdown",
      "source": [
        "I chose a count plot for this visualization because it effectively displays the frequency of different engagement categories across various room types. Count plots are particularly useful for categorical data, allowing for easy comparison of counts within each category. This chart can quickly illustrate the distribution of engagement across room types and highlight any significant trends or disparities."
      ],
      "metadata": {
        "id": "si7Yy-Jo2PmA"
      }
    },
    {
      "cell_type": "markdown",
      "source": [
        "##### 2. What is/are the insight(s) found from the chart?"
      ],
      "metadata": {
        "id": "p_dQT7-k2RNA"
      }
    },
    {
      "cell_type": "markdown",
      "source": [
        "***The count plot can reveal several insights*** :\n",
        "\n",
        "\n",
        " 1. **Room Type Popularity** : It allows us to see which room types are most frequently engaged with in different categories. For example, if entire homes show higher counts in a specific engagement category compared to private or shared rooms, it indicates a preference for that type of accommodation among guests.\n",
        "\n",
        " 2. **Engagement Category Trends** : The plot may highlight how different room types are perceived in terms of guest engagement. If certain engagement categories are predominant in specific room types, it can reflect guest preferences or behaviors."
      ],
      "metadata": {
        "id": "qtHyYXZ32WBK"
      }
    },
    {
      "cell_type": "markdown",
      "source": [
        "##### 3. Will the gained insights help creating a positive business impact?\n",
        "Are there any insights that lead to negative growth? Justify with specific reason."
      ],
      "metadata": {
        "id": "YndDDfxy2W5l"
      }
    },
    {
      "cell_type": "markdown",
      "source": [
        "***Positive Business Impact*** :\n",
        "\n",
        "\n",
        " 1. **Targeted Marketing Strategies** : Understanding which room types are more frequently engaged can help Airbnb design targeted marketing campaigns. For instance, if entire homes are more popular in a certain engagement category, Airbnb can promote these listings to attract more guests.\n",
        "\n",
        " 2. **Guiding Host Decisions** : Insights into guest engagement can help hosts understand what type of room might be more profitable in their neighborhood. If hosts see that certain room types are consistently engaged more, they can adjust their listings accordingly to maximize occupancy rates.\n",
        "\n",
        "***Potential Negative Growth Insights*** :\n",
        "\n",
        "\n",
        " 1. **Market Saturation Risks** : If many hosts opt to offer the same popular room type (e.g., entire homes) in a particular engagement category, it could lead to oversupply. This might create intense competition, potentially driving prices down and lowering profitability for hosts.\n",
        "\n",
        " 2. **Missed Opportunities in Underrepresented Categories** : If specific engagement categories are significantly less engaged for certain room types, it may indicate a missed opportunity. For example, if private rooms are underrepresented in a high-engagement category, hosts might consider enhancing their offerings or marketing strategies to attract more guests."
      ],
      "metadata": {
        "id": "NsEnRzIv2b6x"
      }
    },
    {
      "cell_type": "markdown",
      "source": [
        "#### Chart - 15 - Correlation Heatmap\n"
      ],
      "metadata": {
        "id": "NC_X3p0fY2L0"
      }
    },
    {
      "cell_type": "code",
      "source": [
        "# Correlation Heatmap visualization code\n",
        "# Creating heatmap for correlation\n",
        "\n",
        "# Select only numerical features for correlation\n",
        "numerical_df = df.select_dtypes(include=['number'])\n",
        "\n",
        "plt.figure(figsize=(10, 6)) # Fix fig. size\n",
        "\n",
        "# plot heatmap for correlation\n",
        "sns.heatmap(numerical_df.corr(), annot=True, fmt=\".2f\", cmap='coolwarm')\n",
        "\n",
        "plt.title('Correlation Heatmap') # Set title for heatmap\n",
        "plt.show()"
      ],
      "metadata": {
        "id": "xyC9zolEZNRQ"
      },
      "execution_count": null,
      "outputs": []
    },
    {
      "cell_type": "markdown",
      "source": [
        "##### 1. Why did you pick the specific chart?"
      ],
      "metadata": {
        "id": "UV0SzAkaZNRQ"
      }
    },
    {
      "cell_type": "markdown",
      "source": [
        "I chose a heatmap for visualizing correlation because it effectively represents the strength and direction of relationships between numerical features in a compact format. The heatmap allows for quick identification of positive and negative correlations through color gradients, making it easy to spot strong relationships, correlations, and potential multicollinearity issues at a glance."
      ],
      "metadata": {
        "id": "DVPuT8LYZNRQ"
      }
    },
    {
      "cell_type": "markdown",
      "source": [
        "##### 2. What is/are the insight(s) found from the chart?"
      ],
      "metadata": {
        "id": "YPEH6qLeZNRQ"
      }
    },
    {
      "cell_type": "markdown",
      "source": [
        "***The heatmap can provide several insights*** :\n",
        "\n",
        "\n",
        " 1. **Strong Positive Correlations** : If certain features, such as **number_of_reviews** and **availability_365**, show a strong positive correlation, it indicates that properties with more reviews tend to be available for booking more days throughout the year. This could imply that popular listings are also those that hosts keep available more frequently.\n",
        "\n",
        " 2. **Negative Correlations** : The heatmap might reveal negative correlations, such as between **price** and **number_of_reviews**. A strong negative correlation may suggest that higher-priced listings receive fewer reviews, indicating a potential challenge for premium listings in attracting guests.\n",
        "\n",
        " 3. **Identifying Multicollinearity** : Features that exhibit high correlation with each other, such as **price** and **avg_price**, could signal multicollinearity, which may affect the performance of certain predictive models. Recognizing these relationships can guide feature selection in model building."
      ],
      "metadata": {
        "id": "bfSqtnDqZNRR"
      }
    },
    {
      "cell_type": "markdown",
      "source": [
        "#### Chart - 16 - Pair Plot"
      ],
      "metadata": {
        "id": "q29F0dvdveiT"
      }
    },
    {
      "cell_type": "code",
      "source": [
        "# Pair Plot visualization code\n",
        "\n",
        "# Select relevant numerical columns for pair plot\n",
        "pairplot_data = df[['price', 'minimum_nights', 'number_of_reviews', 'availability_365']]\n",
        "\n",
        "# Create the pair plot\n",
        "plt.figure(figsize=(10, 10))  # Adjusts the overall size of the figure\n",
        "sns.pairplot(pairplot_data, diag_kind='kde', corner=True, plot_kws={'alpha':0.5})\n",
        "\n",
        "# Display the plot\n",
        "plt.suptitle('Pair Plot of Key Numerical Variables', y=1.02)  # Set a title with slight adjustment for spacing\n",
        "plt.show()\n"
      ],
      "metadata": {
        "id": "o58-TEIhveiU"
      },
      "execution_count": null,
      "outputs": []
    },
    {
      "cell_type": "markdown",
      "source": [
        "##### 1. Why did you pick the specific chart?"
      ],
      "metadata": {
        "id": "EXh0U9oCveiU"
      }
    },
    {
      "cell_type": "markdown",
      "source": [
        "I selected a pair plot to visualize the relationships between key numerical variables in your dataset. A pair plot effectively displays pairwise relationships in a dataset, allowing for easy observation of correlations and distributions across multiple dimensions. This visualization helps to quickly identify trends, clusters, and outliers between different features."
      ],
      "metadata": {
        "id": "eMmPjTByveiU"
      }
    },
    {
      "cell_type": "markdown",
      "source": [
        "##### 2. What is/are the insight(s) found from the chart?"
      ],
      "metadata": {
        "id": "22aHeOlLveiV"
      }
    },
    {
      "cell_type": "markdown",
      "source": [
        "***The pair plot can reveal several insights*** :\n",
        "\n",
        "\n",
        " 1. **Relationships Between Variables** : By examining scatterplots of pairs such as **price **vs. **number_of_reviews**, we may observe that listings with more **reviews** generally have lower prices. This suggests that higher-priced listings might attract fewer guests or may be less popular.\n",
        "\n",
        " 2. **Distribution Patterns** : The diagonal plots (KDE plots) show the distribution of each variable. For example, the **price** distribution may be right-skewed, indicating that most listings are on the lower end of the **price** spectrum, with a few high-priced outliers.\n",
        "\n",
        " 3. **Minimum Nights vs. Availability** : There could be interesting relationships between **minimum_nights** and **availability_365**. For instance, if properties that require a higher minimum stay are also available more days of the year, this could indicate a trend toward longer-term rentals.\n",
        "\n",
        " 4. **Outliers and Clusters** : The pair plot can highlight clusters or outliers within the dataset. For instance, if certain properties have exceptionally high prices but very few reviews, they may represent luxury listings that aren’t as well-known."
      ],
      "metadata": {
        "id": "uPQ8RGwHveiV"
      }
    },
    {
      "cell_type": "markdown",
      "source": [
        "## **5. Solution to Business Objective**"
      ],
      "metadata": {
        "id": "JcMwzZxoAimU"
      }
    },
    {
      "cell_type": "markdown",
      "source": [
        "#### What do you suggest the client to achieve Business Objective ?\n",
        "Explain Briefly."
      ],
      "metadata": {
        "id": "8G2x9gOozGDZ"
      }
    },
    {
      "cell_type": "markdown",
      "source": [
        "1. ***User Experience Optimization*** :\n",
        "\n",
        "\n",
        " - **Tailored Recommendations** : Use insights from the visualizations to develop an algorithm that suggests listings based on user preferences, such as budget, room type, and neighborhood. For instance, if users frequently search for entire homes in a specific neighborhood, prioritize those listings in search results.\n",
        "\n",
        " - **Enhanced Booking Process** : Streamline the booking experience by implementing filters that allow users to sort listings by price, availability, and number of reviews. This can help users quickly find listings that meet their criteria, improving overall satisfaction.\n",
        "\n",
        " - **Seasonal Promotions** : Leverage the seasonal trends identified in your analysis to create targeted promotions during high-demand periods. For example, offer discounts for properties that might otherwise go unbooked during off-peak seasons.\n",
        "\n",
        "\n",
        "***Host Support and Guidance*** :\n",
        "\n",
        "\n",
        "\n",
        " - **Dynamic Pricing Tools** : Provide hosts with data-driven pricing recommendations based on the analysis of average prices by room type and neighborhood. This tool could suggest optimal pricing strategies to maximize bookings while remaining competitive.\n",
        "\n",
        " - **Education and Resources** : Offer workshops or resources for new hosts to help them understand market trends. Sharing insights on successful pricing strategies, optimal availability, and the importance of gathering reviews can enhance host performance.\n",
        "\n",
        " - **Feedback Mechanism** : Establish a feedback loop where hosts can receive insights based on guest reviews and booking data. This will enable them to make informed decisions about property management and guest engagement.\n",
        "\n",
        "\n",
        "***Strategic Planning for Market Growth*** :\n",
        "\n",
        "\n",
        "\n",
        " - **Market Analysis Reports** : Regularly compile reports based on the visualizations, focusing on trends in guest behavior, neighborhood performance, and pricing strategies. These reports can guide Airbnb's marketing campaigns and highlight potential growth areas.\n",
        "\n",
        " - **Targeted Marketing Campaigns** : Utilize data on neighborhood popularity and guest preferences to create marketing campaigns that promote specific areas. Highlight the unique features of each neighborhood to attract different segments of travelers, such as families, business travelers, or budget-conscious guests.\n",
        "\n",
        " - **Identifying Underserved Areas** : Analyze neighborhoods with lower review counts and explore opportunities for host development. By encouraging new listings in these areas and providing incentives, Airbnb can diversify its offerings and attract a broader range of guests."
      ],
      "metadata": {
        "id": "pASKb0qOza21"
      }
    },
    {
      "cell_type": "markdown",
      "source": [
        "# **Conclusion**"
      ],
      "metadata": {
        "id": "gCX9965dhzqZ"
      }
    },
    {
      "cell_type": "markdown",
      "source": [
        "In conclusion, the insights derived from this project not only enhance our understanding of the Airbnb marketplace but also provide actionable recommendations for both Airbnb and its hosts. By leveraging data analytics, Airbnb can refine its user experience, empower hosts with valuable insights, and strategically position itself for growth in a competitive landscape. Moving forward, continuous monitoring and analysis will be crucial in adapting to changing market dynamics and ensuring sustained success in the ever-evolving travel industry."
      ],
      "metadata": {
        "id": "Fjb1IsQkh3yE"
      }
    },
    {
      "cell_type": "markdown",
      "source": [
        "### ***Hurrah! You have successfully completed your EDA Capstone Project !!!***"
      ],
      "metadata": {
        "id": "gIfDvo9L0UH2"
      }
    }
  ]
}